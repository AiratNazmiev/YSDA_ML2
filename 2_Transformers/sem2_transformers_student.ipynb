{
 "cells": [
  {
   "cell_type": "markdown",
   "id": "6d43fbba",
   "metadata": {
    "cellId": "6tgifddr0g4wmt8cy6lx7h"
   },
   "source": [
    "# **Seminar 2 - Attention и Transformer**\n",
    "*Naumov Anton (Any0019)*\n",
    "\n",
    "*To contact me in telegram: @any0019*"
   ]
  },
  {
   "cell_type": "markdown",
   "id": "69d08d4a",
   "metadata": {
    "cellId": "l5w7dxjwy9qp98m1xhmr",
    "tags": []
   },
   "source": [
    "## 1. Построим Transformer с нуля в Pytorch"
   ]
  },
  {
   "cell_type": "markdown",
   "id": "503544cb-b0c7-45db-946a-61cb2fdd57d2",
   "metadata": {},
   "source": [
    "<img src=\"https://i.pinimg.com/736x/c1/83/1a/c1831a58ecc935fc0f2ef4d35ce4fddb.jpg\">"
   ]
  },
  {
   "cell_type": "code",
   "execution_count": 1,
   "id": "ed3ae293-0776-4685-ad45-f5c0ad517f6e",
   "metadata": {
    "execution": {
     "iopub.execute_input": "2024-02-20T11:33:02.856276Z",
     "iopub.status.busy": "2024-02-20T11:33:02.855592Z",
     "iopub.status.idle": "2024-02-20T11:33:02.874465Z",
     "shell.execute_reply": "2024-02-20T11:33:02.873733Z",
     "shell.execute_reply.started": "2024-02-20T11:33:02.856229Z"
    },
    "tags": []
   },
   "outputs": [],
   "source": [
    "from collections import OrderedDict\n",
    "import torch\n",
    "import torch.nn as nn\n",
    "import torch.nn.functional as F\n",
    "import math\n",
    "import matplotlib.pyplot as plt\n",
    "# %matplotlib inline"
   ]
  },
  {
   "cell_type": "markdown",
   "id": "77a9d7b3-71f0-4528-8def-47578906fa1a",
   "metadata": {
    "tags": []
   },
   "source": [
    "### 1.1 Multi-head Attention"
   ]
  },
  {
   "cell_type": "markdown",
   "id": "3caa6d91-f5ef-4cfe-a96b-29970e28ffaa",
   "metadata": {
    "tags": []
   },
   "source": [
    "#### Основной класс - MultiHeadAttention"
   ]
  },
  {
   "cell_type": "markdown",
   "id": "5f6e24c6-dc8d-466d-bd12-f25389032aa5",
   "metadata": {},
   "source": [
    "**Инициализация:**\n",
    "* _in_size_ ~ размер эмбеддингов на входе\n",
    "* _head_size_ ~ размер эмбеддингов матриц Q, K, V после преобразования\n",
    "* _num_heads_ ~ число голов\n",
    "* _out_size_ ~ размер эмбеддингов на выходе\n",
    "* _query_in_size_ ~ размер эмбеддингов на входе для query (если None, то in_size)\n",
    "\n",
    "**Forward:**\n",
    "* _query, key, value_ ~ 3 тензора (по одному под Q, K и V преобразования - это ещё не сами тензоры $\\text{batch\\_size} \\times seq \\times d_k$, а тензоры $\\text{batch\\_size} \\times seq \\times \\text{in\\_size}$)\n",
    "* _mask_ ~ булева маска для Masked Multi-head Attention (в декодере)"
   ]
  },
  {
   "cell_type": "markdown",
   "id": "c58ac31c-1b8e-40ad-9b06-5648be5330d8",
   "metadata": {},
   "source": [
    "$$ Attention(Q, K, V) = softmax\\Bigg(\\frac{QK^T}{\\sqrt{d_k}}\\Bigg) \\cdot V $$\n",
    "$$ MultiHead(Q, K, V) = Concat(head_1, ..., head_H) \\cdot W^O \\quad ; \\quad head_i = Attention(Q W_i^Q, K W_i^K, V W_i^V)$$"
   ]
  },
  {
   "cell_type": "code",
   "execution_count": 2,
   "id": "67c7cda9-7145-49c4-b95b-77291b492cd0",
   "metadata": {
    "execution": {
     "iopub.execute_input": "2024-02-20T09:24:23.848343Z",
     "iopub.status.busy": "2024-02-20T09:24:23.847517Z",
     "iopub.status.idle": "2024-02-20T09:24:23.971590Z",
     "shell.execute_reply": "2024-02-20T09:24:23.970600Z",
     "shell.execute_reply.started": "2024-02-20T09:24:23.848297Z"
    },
    "tags": []
   },
   "outputs": [
    {
     "data": {
      "text/plain": [
       "tensor([0.])"
      ]
     },
     "execution_count": 2,
     "metadata": {},
     "output_type": "execute_result"
    }
   ],
   "source": [
    "torch.exp(-torch.tensor([torch.inf]))"
   ]
  },
  {
   "cell_type": "code",
   "execution_count": 3,
   "id": "5f06172f-89e6-460e-96b0-c713be41b67c",
   "metadata": {
    "execution": {
     "iopub.execute_input": "2024-02-20T12:23:24.190910Z",
     "iopub.status.busy": "2024-02-20T12:23:24.189797Z",
     "iopub.status.idle": "2024-02-20T12:23:24.206187Z",
     "shell.execute_reply": "2024-02-20T12:23:24.205533Z",
     "shell.execute_reply.started": "2024-02-20T12:23:24.190860Z"
    },
    "tags": []
   },
   "outputs": [],
   "source": [
    "class MultiHeadAttention(nn.Module):\n",
    "    \"\"\"\n",
    "    Class to calculate Multi-head attention (or Masked Multi-head attention for decoder) operation\n",
    "    \"\"\"\n",
    "    def __init__(self, in_size, head_size, num_heads, out_size, query_in_size=None):\n",
    "        \"\"\"\n",
    "        Args:\n",
    "            in_size: embedding size of input\n",
    "            head_size: hidden size of Q, K, V matrices\n",
    "            num_heads: number of heads\n",
    "            out_size: output embedding size\n",
    "            query_in_size: embedding size of input for query (if not provided - same as in_size)\n",
    "        \"\"\"\n",
    "        super().__init__()\n",
    "\n",
    "        # Запишем все переданые гиперпараметры слоя\n",
    "        self.in_size = in_size\n",
    "        self.head_size = head_size\n",
    "        self.num_heads = num_heads\n",
    "        self.out_size = out_size\n",
    "        self.query_in_size = self.in_size if query_in_size is None else query_in_size\n",
    "       \n",
    "        # Линейные преобразования для Q, K, V матриц (сразу хотим получить все Q, K, V матрицы)\n",
    "        self.query_matrix = nn.Linear(in_features=self.query_in_size, out_features=self.head_size * self.num_heads, bias=False)\n",
    "        self.key_matrix   = nn.Linear(in_features=self.in_size,       out_features=self.head_size * self.num_heads, bias=False)\n",
    "        self.value_matrix = nn.Linear(in_features=self.in_size,       out_features=self.head_size * self.num_heads, bias=False)\n",
    "        \n",
    "        # Линейное преобразование для получения выхода после конкатенации голов\n",
    "        self.out = nn.Linear(in_features=self.head_size * self.num_heads, out_features=self.out_size, bias=True)\n",
    "\n",
    "    def forward(self, query, key, value, mask=None):\n",
    "        \"\"\"\n",
    "        Args:\n",
    "           query : tensor for query\n",
    "           key : tensor for key\n",
    "           value : tensor for value\n",
    "           mask: mask for decoder\n",
    "        \n",
    "        Returns:\n",
    "           output vector from multihead attention\n",
    "        \"\"\"\n",
    "        # Тензоры приходят размера batch_size x seq_len x in_size\n",
    "        batch_size, seq_len, _ = key.shape\n",
    "        \n",
    "        # Число токенов в query будет другим для decoder-а\n",
    "        query_seq_len = query.shape[1]\n",
    "       \n",
    "        # Применяем линейные преобразования на входе\n",
    "        q = self.query_matrix(query)  # (batch_size, query_seq_len, head_size * num_heads)\n",
    "        k = self.key_matrix(key)  # (batch_size, seq_len, head_size * num_heads)\n",
    "        v = self.value_matrix(value)  # (batch_size, seq_len, head_size * num_heads)\n",
    "\n",
    "        # .reshape / .view, .transpose\n",
    "        q = q.reshape(batch_size, query_seq_len, self.num_heads, self.head_size).transpose(1, 2)  # (batch_size, num_heads, query_seq_len, head_size)\n",
    "        k = k.reshape(batch_size, seq_len,       self.num_heads, self.head_size).transpose(1, 2)  # (batch_size, num_heads, seq_len, head_size)\n",
    "        v = v.reshape(batch_size, seq_len,       self.num_heads, self.head_size).transpose(1, 2)  # (batch_size, num_heads, seq_len, head_size)\n",
    "       \n",
    "        # Считаем релевантность\n",
    "        relevance = q @ k.mT / math.sqrt(self.head_size)  # (batch_size, num_heads, query_seq_len, seq_len)\n",
    "        \n",
    "        # Если есть маска (для декодера), то заполняем значения по маске как минус бесконечность (чтобы exp(r) = 0 в softmax)\n",
    "        if mask is not None:\n",
    "             relevance = relevance.masked_fill(mask, -torch.inf)\n",
    "\n",
    "        # Получаем вероятности\n",
    "        relevance = F.softmax(relevance, dim=-1)\n",
    " \n",
    "        # Считаем выходы из каждой головы\n",
    "        head_i = relevance @ v  # (batch_size, num_heads, query_seq_len, head_size)\n",
    "        \n",
    "        # Конкатенируем выходы\n",
    "        concat = head_i.transpose(1, 2).reshape(batch_size, query_seq_len, self.num_heads * self.head_size)  # (batch_size, query_seq_len, num_heads * head_size)\n",
    "        \n",
    "        return self.out(concat)  # (batch_size, query_seq_len, out_size)"
   ]
  },
  {
   "cell_type": "markdown",
   "id": "24742a18-9f98-4c77-b91a-1b3dada2a2b8",
   "metadata": {
    "tags": []
   },
   "source": [
    "#### Протестируем MultiHeadAttention для энкодера"
   ]
  },
  {
   "cell_type": "code",
   "execution_count": 4,
   "id": "0ebd7342-1a4a-4aa7-821f-ec1e145e0e0b",
   "metadata": {
    "execution": {
     "iopub.execute_input": "2024-02-20T12:53:10.203856Z",
     "iopub.status.busy": "2024-02-20T12:53:10.202994Z",
     "iopub.status.idle": "2024-02-20T12:53:10.221618Z",
     "shell.execute_reply": "2024-02-20T12:53:10.220840Z",
     "shell.execute_reply.started": "2024-02-20T12:53:10.203811Z"
    },
    "tags": []
   },
   "outputs": [
    {
     "data": {
      "text/plain": [
       "MultiHeadAttention(\n",
       "  (query_matrix): Linear(in_features=10, out_features=12, bias=False)\n",
       "  (key_matrix): Linear(in_features=10, out_features=12, bias=False)\n",
       "  (value_matrix): Linear(in_features=10, out_features=12, bias=False)\n",
       "  (out): Linear(in_features=12, out_features=15, bias=True)\n",
       ")"
      ]
     },
     "execution_count": 4,
     "metadata": {},
     "output_type": "execute_result"
    }
   ],
   "source": [
    "tmp_layer = MultiHeadAttention(\n",
    "    in_size=10,\n",
    "    head_size=4,\n",
    "    num_heads=3,\n",
    "    out_size=15,\n",
    ")\n",
    "\n",
    "tmp_layer"
   ]
  },
  {
   "cell_type": "code",
   "execution_count": 5,
   "id": "24f01b89-df85-4cdd-bee3-73e5985301e8",
   "metadata": {
    "execution": {
     "iopub.execute_input": "2024-02-20T12:14:19.528931Z",
     "iopub.status.busy": "2024-02-20T12:14:19.528206Z",
     "iopub.status.idle": "2024-02-20T12:14:19.543046Z",
     "shell.execute_reply": "2024-02-20T12:14:19.542374Z",
     "shell.execute_reply.started": "2024-02-20T12:14:19.528883Z"
    },
    "tags": []
   },
   "outputs": [
    {
     "name": "stdout",
     "output_type": "stream",
     "text": [
      "Encoder-like input, no mask\n",
      "Input shape: torch.Size([2, 5, 10])\n",
      "Output shape: torch.Size([2, 5, 15])\n"
     ]
    }
   ],
   "source": [
    "# Проверяем в обычном прямом проходе из энкодера\n",
    "tmp_input = torch.rand(2, 5, 10)\n",
    "\n",
    "print(\"Encoder-like input, no mask\")\n",
    "print(f'Input shape: {tmp_input.shape}')\n",
    "tmp_output = tmp_layer(tmp_input, tmp_input, tmp_input)\n",
    "print(f'Output shape: {tmp_output.shape}')\n",
    "\n",
    "del tmp_input, tmp_output"
   ]
  },
  {
   "cell_type": "markdown",
   "id": "8af1baf8-8839-4306-a99d-f1f92d49f4ff",
   "metadata": {
    "tags": []
   },
   "source": [
    "#### Протестируем MultiHeadAttention для смеси энкодера и декодера"
   ]
  },
  {
   "cell_type": "code",
   "execution_count": 6,
   "id": "1bdca3c7-b1da-4ed1-acb5-a4b80c8c31cb",
   "metadata": {
    "execution": {
     "iopub.execute_input": "2024-02-20T12:14:57.917266Z",
     "iopub.status.busy": "2024-02-20T12:14:57.916489Z",
     "iopub.status.idle": "2024-02-20T12:14:57.930750Z",
     "shell.execute_reply": "2024-02-20T12:14:57.930093Z",
     "shell.execute_reply.started": "2024-02-20T12:14:57.917222Z"
    },
    "tags": []
   },
   "outputs": [
    {
     "data": {
      "text/plain": [
       "MultiHeadAttention(\n",
       "  (query_matrix): Linear(in_features=12, out_features=12, bias=False)\n",
       "  (key_matrix): Linear(in_features=10, out_features=12, bias=False)\n",
       "  (value_matrix): Linear(in_features=10, out_features=12, bias=False)\n",
       "  (out): Linear(in_features=12, out_features=15, bias=True)\n",
       ")"
      ]
     },
     "execution_count": 6,
     "metadata": {},
     "output_type": "execute_result"
    }
   ],
   "source": [
    "tmp_layer = MultiHeadAttention(\n",
    "    in_size=10,\n",
    "    head_size=4,\n",
    "    num_heads=3,\n",
    "    out_size=15,\n",
    "    query_in_size=12,\n",
    ")\n",
    "\n",
    "tmp_layer"
   ]
  },
  {
   "cell_type": "code",
   "execution_count": 7,
   "id": "bb7d05e6-93f3-4b88-b2a0-fda90c3b7a13",
   "metadata": {
    "execution": {
     "iopub.execute_input": "2024-02-20T12:14:58.677114Z",
     "iopub.status.busy": "2024-02-20T12:14:58.676293Z",
     "iopub.status.idle": "2024-02-20T12:14:58.689572Z",
     "shell.execute_reply": "2024-02-20T12:14:58.688649Z",
     "shell.execute_reply.started": "2024-02-20T12:14:58.677063Z"
    },
    "tags": []
   },
   "outputs": [
    {
     "name": "stdout",
     "output_type": "stream",
     "text": [
      "Encoder+Decoder-like input, no mask\n",
      "Input Q shape: torch.Size([2, 5, 12])\n",
      "Input KV shape: torch.Size([2, 7, 10])\n",
      "Output shape: torch.Size([2, 5, 15])\n"
     ]
    }
   ],
   "source": [
    "# Проверяем в прямом проходе из декодера, где мы смешиваем информацию из энкодера и декодера\n",
    "tmp_input_q = torch.rand(2, 5, 12)\n",
    "tmp_input_kv = torch.rand(2, 7, 10)\n",
    "\n",
    "print(\"Encoder+Decoder-like input, no mask\")\n",
    "print(f'Input Q shape: {tmp_input_q.shape}')\n",
    "print(f'Input KV shape: {tmp_input_kv.shape}')\n",
    "\n",
    "tmp_output = tmp_layer(tmp_input_q, tmp_input_kv, tmp_input_kv)\n",
    "print(f'Output shape: {tmp_output.shape}')\n",
    "\n",
    "del tmp_input_q, tmp_input_kv, tmp_output"
   ]
  },
  {
   "cell_type": "markdown",
   "id": "b0e262a1-f8d1-445f-9ec0-622d11e12ec9",
   "metadata": {
    "jp-MarkdownHeadingCollapsed": true,
    "tags": []
   },
   "source": [
    "#### Треугольная маска в декодере"
   ]
  },
  {
   "cell_type": "code",
   "execution_count": 8,
   "id": "07f0a70b-0d8d-49ab-9796-776a689adae5",
   "metadata": {
    "execution": {
     "iopub.execute_input": "2024-02-20T12:51:54.631766Z",
     "iopub.status.busy": "2024-02-20T12:51:54.630986Z",
     "iopub.status.idle": "2024-02-20T12:51:54.645923Z",
     "shell.execute_reply": "2024-02-20T12:51:54.645198Z",
     "shell.execute_reply.started": "2024-02-20T12:51:54.631714Z"
    },
    "tags": []
   },
   "outputs": [],
   "source": [
    "def make_decoder_mask(decoder_embed):\n",
    "    \"\"\"\n",
    "    Make mask for decoder Masked Multi-head Attention based on input sequence\n",
    "    Args:\n",
    "        decoder_embed: decoder sequence after embed\n",
    "    Returns:\n",
    "        mask: mask for Masked Multi-head Attention\n",
    "    \"\"\"\n",
    "    batch_size, decoder_seq_len, _ = decoder_embed.shape\n",
    "    mask = torch.tril(torch.ones((decoder_seq_len, decoder_seq_len))).expand(\n",
    "        batch_size, 1, decoder_seq_len, decoder_seq_len\n",
    "    ).bool()\n",
    "    return mask "
   ]
  },
  {
   "cell_type": "markdown",
   "id": "b0dbb866-7989-4310-9aa7-b1c2482b5d68",
   "metadata": {
    "jp-MarkdownHeadingCollapsed": true,
    "tags": []
   },
   "source": [
    "#### Протестируем MultiHeadAttention для декодера с маской"
   ]
  },
  {
   "cell_type": "code",
   "execution_count": 9,
   "id": "cbcfc9ae-0488-4c0b-9071-7419ea1b4e2b",
   "metadata": {
    "execution": {
     "iopub.execute_input": "2024-02-20T12:52:11.397247Z",
     "iopub.status.busy": "2024-02-20T12:52:11.396343Z",
     "iopub.status.idle": "2024-02-20T12:52:11.896292Z",
     "shell.execute_reply": "2024-02-20T12:52:11.895457Z",
     "shell.execute_reply.started": "2024-02-20T12:52:11.397195Z"
    },
    "tags": []
   },
   "outputs": [
    {
     "name": "stdout",
     "output_type": "stream",
     "text": [
      "Mask shape: torch.Size([1, 1, 10, 10])\n"
     ]
    },
    {
     "data": {
      "image/png": "[encoded data removed]",
      "text/plain": [
       "<Figure size 1000x1000 with 1 Axes>"
      ]
     },
     "metadata": {},
     "output_type": "display_data"
    }
   ],
   "source": [
    "tmp_input = torch.rand(1, 10, 256)\n",
    "tmp_mask = make_decoder_mask(tmp_input)\n",
    "print(f\"Mask shape: {tmp_mask.shape}\")\n",
    "\n",
    "# Визуализируем\n",
    "fig, ax = plt.subplots(figsize=(10, 10))\n",
    "plt.imshow(tmp_mask[0, 0, :, :])\n",
    "# Добавляем текстовые надписи\n",
    "for i in range(tmp_mask.shape[-2]):\n",
    "    for j in range(tmp_mask.shape[-1]):\n",
    "        text = plt.text(j, i, tmp_mask[0, 0, i, j].item(), ha=\"center\", va=\"center\", color=\"red\")\n",
    "plt.show()"
   ]
  },
  {
   "cell_type": "code",
   "execution_count": 10,
   "id": "7cb5bc0c-d3bb-472a-89c6-58133a20b2f0",
   "metadata": {
    "execution": {
     "iopub.execute_input": "2024-02-20T12:53:21.559873Z",
     "iopub.status.busy": "2024-02-20T12:53:21.559137Z",
     "iopub.status.idle": "2024-02-20T12:53:21.571228Z",
     "shell.execute_reply": "2024-02-20T12:53:21.570549Z",
     "shell.execute_reply.started": "2024-02-20T12:53:21.559824Z"
    }
   },
   "outputs": [
    {
     "data": {
      "text/plain": [
       "MultiHeadAttention(\n",
       "  (query_matrix): Linear(in_features=10, out_features=12, bias=False)\n",
       "  (key_matrix): Linear(in_features=10, out_features=12, bias=False)\n",
       "  (value_matrix): Linear(in_features=10, out_features=12, bias=False)\n",
       "  (out): Linear(in_features=12, out_features=15, bias=True)\n",
       ")"
      ]
     },
     "execution_count": 10,
     "metadata": {},
     "output_type": "execute_result"
    }
   ],
   "source": [
    "tmp_layer = MultiHeadAttention(\n",
    "    in_size=10,\n",
    "    head_size=4,\n",
    "    num_heads=3,\n",
    "    out_size=15,\n",
    ")\n",
    "\n",
    "tmp_layer"
   ]
  },
  {
   "cell_type": "code",
   "execution_count": 11,
   "id": "c58408a1-d3b6-4b11-af17-2c31a0918c95",
   "metadata": {
    "execution": {
     "iopub.execute_input": "2024-02-20T12:53:22.196955Z",
     "iopub.status.busy": "2024-02-20T12:53:22.195944Z",
     "iopub.status.idle": "2024-02-20T12:53:22.216878Z",
     "shell.execute_reply": "2024-02-20T12:53:22.216120Z",
     "shell.execute_reply.started": "2024-02-20T12:53:22.196901Z"
    },
    "tags": []
   },
   "outputs": [
    {
     "name": "stdout",
     "output_type": "stream",
     "text": [
      "Decoder-like input, with mask\n",
      "Input shape: torch.Size([2, 5, 10])\n",
      "Mask shape: torch.Size([2, 1, 5, 5])\n",
      "Output shape: torch.Size([2, 5, 15])\n"
     ]
    }
   ],
   "source": [
    "tmp_input = torch.rand(2, 5, 10)\n",
    "tmp_mask = make_decoder_mask(tmp_input)\n",
    "\n",
    "print(\"Decoder-like input, with mask\")\n",
    "print(f'Input shape: {tmp_input.shape}')\n",
    "print(f'Mask shape: {tmp_mask.shape}')\n",
    "\n",
    "tmp_output = tmp_layer(tmp_input, tmp_input, tmp_input, tmp_mask)\n",
    "print(f'Output shape: {tmp_output.shape}')\n",
    "\n",
    "del tmp_input, tmp_mask, tmp_output"
   ]
  },
  {
   "cell_type": "markdown",
   "id": "890c5767-3b13-47f9-8c96-c5e1907436fe",
   "metadata": {
    "tags": []
   },
   "source": [
    "### 1.2 Positional Encoding"
   ]
  },
  {
   "cell_type": "markdown",
   "id": "969e21bb-03f7-4128-9e9c-e03896ef685e",
   "metadata": {
    "jp-MarkdownHeadingCollapsed": true,
    "tags": []
   },
   "source": [
    "#### Основной класс - PositionalEncoding"
   ]
  },
  {
   "cell_type": "markdown",
   "id": "eb0de7a4-6534-40fd-a1ae-bfee9ab0b946",
   "metadata": {},
   "source": [
    "**Инициализация:**\n",
    "* _max_seq_len_ ~ максимальный размер в токенах последовательности\n",
    "* _emb_size_ ~ размер эмбеддингов на входе\n",
    "\n",
    "**Forward:**\n",
    "* _decoder_emb_ ~ эмбеддинги токенов из входа декодера"
   ]
  },
  {
   "cell_type": "markdown",
   "id": "3695c6b5-05a8-416b-8ad9-1d0981f1ed88",
   "metadata": {},
   "source": [
    "$$\\text{PE}_{(\\text{pos}, 2i)} = sin\\Bigg( \\frac{\\text{pos}}{10000^{\\frac{2i}{\\text{emb\\_size}}}} \\Bigg) \\quad ; \\quad \\text{PE}_{(\\text{pos}, 2i + 1)} = cos\\Bigg( \\frac{\\text{pos}}{10000^{\\frac{2i}{\\text{emb\\_size}}}} \\Bigg)$$"
   ]
  },
  {
   "cell_type": "code",
   "execution_count": 12,
   "id": "db772e78-b56e-4a80-9fc7-46bba533e0f1",
   "metadata": {
    "execution": {
     "iopub.execute_input": "2024-02-20T10:47:49.265848Z",
     "iopub.status.busy": "2024-02-20T10:47:49.265084Z",
     "iopub.status.idle": "2024-02-20T10:47:49.284506Z",
     "shell.execute_reply": "2024-02-20T10:47:49.283602Z",
     "shell.execute_reply.started": "2024-02-20T10:47:49.265804Z"
    },
    "tags": []
   },
   "outputs": [],
   "source": [
    "class PositionalEncoding(nn.Module):\n",
    "    \"\"\"\n",
    "    Class to calculate Positional Encodings, suggested in `Attention is all you need [Vaswani et. al., 2017]`\n",
    "    \"\"\"\n",
    "    def __init__(self, max_seq_len, emb_size):\n",
    "        \"\"\"\n",
    "        Args:\n",
    "            max_seq_len: max length of input sequence\n",
    "            emb_size: dimension of embedding\n",
    "        \"\"\"\n",
    "        super(PositionalEncoding, self).__init__()\n",
    "        \n",
    "        # Запишем все переданые гиперпараметры слоя\n",
    "        self.max_seq_len = max_seq_len\n",
    "        self.emb_size = emb_size\n",
    "        \n",
    "        # Посчитаем позиционные эмбеддинги в тензорном виде\n",
    "        pos  = torch.arange(0, self.max_seq_len)[:, None]\n",
    "        inds = torch.arange(0, self.emb_size, 2)[None, :]\n",
    "        \n",
    "        pe = torch.zeros(max_seq_len, self.emb_size)\n",
    "        pe[:, 0::2] = torch.sin(pos / 10000**(inds / self.emb_size))\n",
    "        pe[:, 1::2] = torch.cos(pos / 10000**(inds / self.emb_size))\n",
    "        pe = pe.unsqueeze(0)\n",
    "        \n",
    "        # Добавляем полученный тензор как параметр, который будет сохранятся вместе с моделью, но не будет обучаться\n",
    "        self.register_buffer('pe', pe)\n",
    "\n",
    "\n",
    "    def forward(self, decoder_emb):\n",
    "        \"\"\"\n",
    "        Args:\n",
    "            decoder_emb: decoder sequence after embed\n",
    "        Returns:\n",
    "            output: input with positional encodings\n",
    "        \"\"\"\n",
    "        # Тензоры приходят размера batch_size x seq_len x emb_size\n",
    "        seq_len = decoder_emb.shape[1]\n",
    "        \n",
    "        # Прибавляем позиционные эмбеддинги\n",
    "        return decoder_emb + self.pe[:, :seq_len]"
   ]
  },
  {
   "cell_type": "markdown",
   "id": "823dc20a-22a4-4c73-bfe6-4a40646316ae",
   "metadata": {
    "jp-MarkdownHeadingCollapsed": true,
    "tags": []
   },
   "source": [
    "#### Протестируем PositionalEncoding"
   ]
  },
  {
   "cell_type": "code",
   "execution_count": 13,
   "id": "3c516f14-54e8-4915-9b05-7343cc0c4791",
   "metadata": {
    "execution": {
     "iopub.execute_input": "2024-02-20T11:56:30.103455Z",
     "iopub.status.busy": "2024-02-20T11:56:30.102602Z",
     "iopub.status.idle": "2024-02-20T11:56:30.140288Z",
     "shell.execute_reply": "2024-02-20T11:56:30.139353Z",
     "shell.execute_reply.started": "2024-02-20T11:56:30.103413Z"
    },
    "tags": []
   },
   "outputs": [
    {
     "data": {
      "text/plain": [
       "PositionalEncoding()"
      ]
     },
     "execution_count": 13,
     "metadata": {},
     "output_type": "execute_result"
    }
   ],
   "source": [
    "tmp_layer = PositionalEncoding(\n",
    "    max_seq_len=5,\n",
    "    emb_size=10,\n",
    ")\n",
    "\n",
    "tmp_layer"
   ]
  },
  {
   "cell_type": "code",
   "execution_count": 14,
   "id": "defb8a45-520e-4ac7-bad1-c5e3a017906d",
   "metadata": {
    "execution": {
     "iopub.execute_input": "2024-02-20T11:58:15.471299Z",
     "iopub.status.busy": "2024-02-20T11:58:15.470487Z",
     "iopub.status.idle": "2024-02-20T11:58:15.534803Z",
     "shell.execute_reply": "2024-02-20T11:58:15.533969Z",
     "shell.execute_reply.started": "2024-02-20T11:58:15.471263Z"
    },
    "tags": []
   },
   "outputs": [
    {
     "name": "stdout",
     "output_type": "stream",
     "text": [
      "Input shape: torch.Size([2, 5, 10])\n",
      "Output shape: torch.Size([2, 5, 10])\n"
     ]
    }
   ],
   "source": [
    "tmp_input = torch.rand(2, 5, 10)\n",
    "\n",
    "print(f'Input shape: {tmp_input.shape}')\n",
    "tmp_output = tmp_layer(tmp_input)\n",
    "print(f'Output shape: {tmp_output.shape}')\n",
    "\n",
    "del tmp_input, tmp_output"
   ]
  },
  {
   "cell_type": "markdown",
   "id": "02fb4dad-a30c-429d-bbaa-3b073a94ceb4",
   "metadata": {
    "jp-MarkdownHeadingCollapsed": true,
    "tags": []
   },
   "source": [
    "#### Посмотрим на позиционные эмбеддинги"
   ]
  },
  {
   "cell_type": "code",
   "execution_count": 15,
   "id": "b01516cb-c9b8-449e-8ee4-17af03cdc653",
   "metadata": {
    "execution": {
     "iopub.execute_input": "2024-02-20T10:49:08.961170Z",
     "iopub.status.busy": "2024-02-20T10:49:08.960346Z",
     "iopub.status.idle": "2024-02-20T10:49:08.976029Z",
     "shell.execute_reply": "2024-02-20T10:49:08.975191Z",
     "shell.execute_reply.started": "2024-02-20T10:49:08.961131Z"
    },
    "tags": []
   },
   "outputs": [
    {
     "data": {
      "text/plain": [
       "torch.Size([1, 5, 10])"
      ]
     },
     "execution_count": 15,
     "metadata": {},
     "output_type": "execute_result"
    }
   ],
   "source": [
    "tmp_layer.pe.shape"
   ]
  },
  {
   "cell_type": "markdown",
   "id": "ce117edf-edb1-4e74-a500-aa6cdea7cdbe",
   "metadata": {},
   "source": [
    "Обоснование из статьи [Attention is all you need [Vaswaniet al., 2017]](https://www.semanticscholar.org/reader/204e3073870fae3d05bcbc2f6a8e263d9b72e776):\n",
    "\n",
    "We chose this function because we hypothesized it would allow the model to easily learn to attend by\n",
    "relative positions, since for any fixed offset k, $PE_{pos+k}$ can be represented as a linear function of $PE_{pos}$."
   ]
  },
  {
   "cell_type": "code",
   "execution_count": 16,
   "id": "2ec6cfd5-5de5-48f5-b688-f90f4ab01121",
   "metadata": {
    "execution": {
     "iopub.execute_input": "2024-02-20T11:03:16.977210Z",
     "iopub.status.busy": "2024-02-20T11:03:16.976311Z",
     "iopub.status.idle": "2024-02-20T11:03:17.218253Z",
     "shell.execute_reply": "2024-02-20T11:03:17.217514Z",
     "shell.execute_reply.started": "2024-02-20T11:03:16.977162Z"
    },
    "tags": []
   },
   "outputs": [
    {
     "data": {
      "image/png": "[encoded data removed]",
      "text/plain": [
       "<Figure size 1000x1000 with 2 Axes>"
      ]
     },
     "metadata": {},
     "output_type": "display_data"
    }
   ],
   "source": [
    "tmp_layer = PositionalEncoding(\n",
    "    max_seq_len=200,\n",
    "    emb_size=100,\n",
    ")\n",
    "\n",
    "fig, ax = plt.subplots(figsize=(10, 10))\n",
    "plt.imshow(tmp_layer.pe[0, :, :], aspect=\"auto\")\n",
    "plt.xlabel(\"emb_size\")\n",
    "plt.ylabel(\"max_seq_len\")\n",
    "plt.colorbar()\n",
    "plt.show()"
   ]
  },
  {
   "cell_type": "code",
   "execution_count": 17,
   "id": "2e289d87-ef49-44f2-83d7-3731351e5bb2",
   "metadata": {
    "execution": {
     "iopub.execute_input": "2024-02-20T11:03:30.518003Z",
     "iopub.status.busy": "2024-02-20T11:03:30.517231Z",
     "iopub.status.idle": "2024-02-20T11:03:30.728488Z",
     "shell.execute_reply": "2024-02-20T11:03:30.727514Z",
     "shell.execute_reply.started": "2024-02-20T11:03:30.517957Z"
    },
    "tags": []
   },
   "outputs": [
    {
     "data": {
      "image/png": "[encoded data removed]",
      "text/plain": [
       "<Figure size 1000x1000 with 2 Axes>"
      ]
     },
     "metadata": {},
     "output_type": "display_data"
    }
   ],
   "source": [
    "fig, ax = plt.subplots(figsize=(10, 10))\n",
    "plt.imshow(tmp_layer.pe[0, :, 50:], aspect=\"auto\")\n",
    "plt.xlabel(\"emb_size\")\n",
    "plt.ylabel(\"max_seq_len\")\n",
    "plt.colorbar()\n",
    "plt.show()"
   ]
  },
  {
   "cell_type": "code",
   "execution_count": 18,
   "id": "10bf74e1-635f-4c06-8319-2e8bc9f2aa8b",
   "metadata": {
    "execution": {
     "iopub.execute_input": "2024-02-20T11:03:48.722706Z",
     "iopub.status.busy": "2024-02-20T11:03:48.721778Z",
     "iopub.status.idle": "2024-02-20T11:03:48.893718Z",
     "shell.execute_reply": "2024-02-20T11:03:48.892784Z",
     "shell.execute_reply.started": "2024-02-20T11:03:48.722654Z"
    },
    "tags": []
   },
   "outputs": [
    {
     "data": {
      "image/png": "[encoded data removed]",
      "text/plain": [
       "<Figure size 1000x1000 with 2 Axes>"
      ]
     },
     "metadata": {},
     "output_type": "display_data"
    }
   ],
   "source": [
    "fig, ax = plt.subplots(figsize=(10, 10))\n",
    "plt.imshow(tmp_layer.pe[0, :, 50:51], aspect=\"auto\")\n",
    "plt.xlabel(\"emb_size\")\n",
    "plt.ylabel(\"max_seq_len\")\n",
    "plt.colorbar()\n",
    "plt.show()"
   ]
  },
  {
   "cell_type": "code",
   "execution_count": 19,
   "id": "ad5cfeb2-8885-4548-80e0-a6329f7b476e",
   "metadata": {
    "execution": {
     "iopub.execute_input": "2024-02-20T11:04:13.798027Z",
     "iopub.status.busy": "2024-02-20T11:04:13.797234Z",
     "iopub.status.idle": "2024-02-20T11:04:13.943888Z",
     "shell.execute_reply": "2024-02-20T11:04:13.943043Z",
     "shell.execute_reply.started": "2024-02-20T11:04:13.797976Z"
    }
   },
   "outputs": [
    {
     "data": {
      "image/png": "[encoded data removed]",
      "text/plain": [
       "<Figure size 1000x1000 with 2 Axes>"
      ]
     },
     "metadata": {},
     "output_type": "display_data"
    }
   ],
   "source": [
    "fig, ax = plt.subplots(figsize=(10, 10))\n",
    "plt.imshow(tmp_layer.pe[0, 50:51, :], aspect=\"auto\")\n",
    "plt.xlabel(\"emb_size\")\n",
    "plt.ylabel(\"max_seq_len\")\n",
    "plt.colorbar()\n",
    "plt.show()"
   ]
  },
  {
   "cell_type": "markdown",
   "id": "ad55aa40-2f30-4046-8e2c-be40f63bb6b6",
   "metadata": {
    "tags": []
   },
   "source": [
    "### 1.3 Encoder"
   ]
  },
  {
   "cell_type": "markdown",
   "id": "6a562d75-ee57-42b0-b0d4-782bae9ef7a3",
   "metadata": {
    "jp-MarkdownHeadingCollapsed": true,
    "tags": []
   },
   "source": [
    "#### Картинка"
   ]
  },
  {
   "cell_type": "markdown",
   "id": "52a5a444-d980-4bd1-8c1a-ef88e9ae3aba",
   "metadata": {},
   "source": [
    "<img src=\"https://www.researchgate.net/profile/Ehsan-Amjadian/publication/352239001/figure/fig1/AS:1033334390013952@1623377525434/Detailed-view-of-a-transformer-encoder-block-It-first-passes-the-input-through-an.jpg\" width=500>"
   ]
  },
  {
   "cell_type": "markdown",
   "id": "4a244101-f865-42a7-b228-1c2f594f9608",
   "metadata": {
    "jp-MarkdownHeadingCollapsed": true,
    "tags": []
   },
   "source": [
    "#### TransformerEncoderBlock"
   ]
  },
  {
   "cell_type": "markdown",
   "id": "4e3eee77-d1b8-4755-bf24-6cdf44e29fc6",
   "metadata": {},
   "source": [
    "**Инициализация:**\n",
    "* _in_size_ ~ размер эмбеддингов на входе\n",
    "* _head_size_ ~ размер эмбеддингов матриц Q, K, V после преобразования\n",
    "* _num_heads_ ~ число голов attention\n",
    "* _out_size_ ~ размер эмбеддингов на выходе attention и блока\n",
    "* _ff_hidden_size_ ~ размер скрытого представления для линейных слоёв\n",
    "* _dropout_p_ ~ вероятность для dropout-ов\n",
    "* _query_in_size_ ~ размер эмбеддингов на входе для query (если None, то in_size)\n",
    "\n",
    "**Forward:**\n",
    "* _query, key, value_ ~ 3 тензора (по одному под Q, K и V преобразования - это ещё не сами тензоры $\\text{batch\\_size} \\times seq \\times d_k$, а тензоры $\\text{batch\\_size} \\times seq \\times \\text{in\\_size}$)"
   ]
  },
  {
   "cell_type": "code",
   "execution_count": 20,
   "id": "6bf31e8a-12ef-4a61-abf0-fc2f539f6a26",
   "metadata": {
    "execution": {
     "iopub.execute_input": "2024-02-20T12:37:24.564554Z",
     "iopub.status.busy": "2024-02-20T12:37:24.563768Z",
     "iopub.status.idle": "2024-02-20T12:37:24.588526Z",
     "shell.execute_reply": "2024-02-20T12:37:24.587808Z",
     "shell.execute_reply.started": "2024-02-20T12:37:24.564510Z"
    },
    "tags": []
   },
   "outputs": [],
   "source": [
    "class TransformerEncoderBlock(nn.Module):\n",
    "    \"\"\"\n",
    "    Class with one full block within transformer's encoder\n",
    "    \"\"\"\n",
    "    def __init__(self, in_size, head_size, num_heads, out_size, ff_hidden_size, dropout_p=0.2, query_in_size=None):\n",
    "        \"\"\"\n",
    "        Args:\n",
    "           in_size: input embedding size\n",
    "           head_size: size of each attention head\n",
    "           num_heads: number of attention heads\n",
    "           out_size: output embedding size\n",
    "           ff_hidden_size: hidden size for feed forward net\n",
    "           dropout_p: probability for dropout\n",
    "           query_in_size: embedding size of input for query (if not provided - same as in_size)\n",
    "        \"\"\"\n",
    "        super(TransformerEncoderBlock, self).__init__()\n",
    "        \n",
    "        # Запишем все переданые гиперпараметры слоя\n",
    "        self.in_size = in_size\n",
    "        self.head_size = head_size\n",
    "        self.num_heads = num_heads\n",
    "        self.out_size = out_size\n",
    "        self.ff_hidden_size = ff_hidden_size\n",
    "        self.dropout_p = dropout_p\n",
    "        self.query_in_size = in_size if query_in_size is None else query_in_size\n",
    "        \n",
    "        self.attention = MultiHeadAttention(self.in_size, self.head_size, self.num_heads, self.out_size, self.query_in_size)\n",
    "        # Если выход и вход attention-а имеют разный размер, то используем линейный слой на residual connection-е\n",
    "        if self.query_in_size != self.out_size:\n",
    "            self.adapt_residual = nn.Linear(in_features=self.query_in_size, out_features=self.out_size)\n",
    "        else:\n",
    "            self.adapt_residual = nn.Identity()\n",
    "                    \n",
    "        self.norm_1 = nn.LayerNorm(normalized_shape=self.out_size)\n",
    "        self.dropout_1 = nn.Dropout(self.dropout_p)\n",
    "        \n",
    "        self.feed_forward = nn.Sequential(OrderedDict([\n",
    "            (\"lin_1\", nn.Linear(self.out_size, self.ff_hidden_size)),\n",
    "            (\"act\", nn.ReLU()),\n",
    "            (\"lin_2\", nn.Linear(self.ff_hidden_size, self.out_size)),\n",
    "        ]))\n",
    "\n",
    "        self.norm_2 = nn.LayerNorm(normalized_shape=self.out_size)\n",
    "        self.dropout_2 = nn.Dropout(self.dropout_p)\n",
    "        \n",
    "\n",
    "    def forward(self, query, key, value):\n",
    "        \"\"\"\n",
    "        Args:\n",
    "           block_input: input to corresponding block\n",
    "        \"\"\"\n",
    "        # Получаем на вход 3 тензора batch_size x seq_len x in_size\n",
    "        attention_out = self.attention(query, key, value)  # (batch_size, seq_len, out_size)\n",
    "        attention_residual_out = attention_out + self.adapt_residual(query)\n",
    "        norm_1_out = self.dropout_1(self.norm_1(attention_residual_out))\n",
    "\n",
    "        # (batch_size, seq_len, out_size) -> (batch_size, seq_len, ff_hidden_size) -> (batch_size, seq_len, out_size)\n",
    "        ff_out = self.feed_forward(norm_1_out)\n",
    "        ff_residual_out = ff_out + norm_1_out\n",
    "        return self.dropout_2(self.norm_2(ff_residual_out))"
   ]
  },
  {
   "cell_type": "markdown",
   "id": "e653ddc4-6b5b-444b-8545-678539f98659",
   "metadata": {
    "jp-MarkdownHeadingCollapsed": true,
    "tags": []
   },
   "source": [
    "#### Протестируем TransformerEncoderBlock для энкодера"
   ]
  },
  {
   "cell_type": "code",
   "execution_count": 21,
   "id": "46e1e25e-0f4a-4ab2-9dfc-bf6cf96be7c6",
   "metadata": {
    "execution": {
     "iopub.execute_input": "2024-02-20T12:30:01.976089Z",
     "iopub.status.busy": "2024-02-20T12:30:01.975268Z",
     "iopub.status.idle": "2024-02-20T12:30:02.120551Z",
     "shell.execute_reply": "2024-02-20T12:30:02.119592Z",
     "shell.execute_reply.started": "2024-02-20T12:30:01.976035Z"
    },
    "tags": []
   },
   "outputs": [
    {
     "data": {
      "text/plain": [
       "TransformerEncoderBlock(\n",
       "  (attention): MultiHeadAttention(\n",
       "    (query_matrix): Linear(in_features=10, out_features=14, bias=False)\n",
       "    (key_matrix): Linear(in_features=10, out_features=14, bias=False)\n",
       "    (value_matrix): Linear(in_features=10, out_features=14, bias=False)\n",
       "    (out): Linear(in_features=14, out_features=15, bias=True)\n",
       "  )\n",
       "  (adapt_residual): Linear(in_features=10, out_features=15, bias=True)\n",
       "  (norm_1): LayerNorm((15,), eps=1e-05, elementwise_affine=True)\n",
       "  (dropout_1): Dropout(p=0.1, inplace=False)\n",
       "  (feed_forward): Sequential(\n",
       "    (lin_1): Linear(in_features=15, out_features=20, bias=True)\n",
       "    (act): ReLU()\n",
       "    (lin_2): Linear(in_features=20, out_features=15, bias=True)\n",
       "  )\n",
       "  (norm_2): LayerNorm((15,), eps=1e-05, elementwise_affine=True)\n",
       "  (dropout_2): Dropout(p=0.1, inplace=False)\n",
       ")"
      ]
     },
     "execution_count": 21,
     "metadata": {},
     "output_type": "execute_result"
    }
   ],
   "source": [
    "# Проверяем в обычном прямом проходе из энкодера\n",
    "tmp_layer = TransformerEncoderBlock(\n",
    "    in_size=10,\n",
    "    head_size=7,\n",
    "    num_heads=2,\n",
    "    out_size=15,\n",
    "    ff_hidden_size=20,\n",
    "    dropout_p=0.1,\n",
    ")\n",
    "\n",
    "tmp_layer"
   ]
  },
  {
   "cell_type": "code",
   "execution_count": 22,
   "id": "fa1c02b6-764b-4591-91bf-5ad313bcfc5b",
   "metadata": {
    "execution": {
     "iopub.execute_input": "2024-02-20T12:30:02.405187Z",
     "iopub.status.busy": "2024-02-20T12:30:02.404288Z",
     "iopub.status.idle": "2024-02-20T12:30:02.448444Z",
     "shell.execute_reply": "2024-02-20T12:30:02.447668Z",
     "shell.execute_reply.started": "2024-02-20T12:30:02.405135Z"
    },
    "tags": []
   },
   "outputs": [
    {
     "name": "stdout",
     "output_type": "stream",
     "text": [
      "Encoder-like input\n",
      "Input shape: torch.Size([2, 5, 10])\n",
      "Output shape: torch.Size([2, 5, 15])\n"
     ]
    }
   ],
   "source": [
    "tmp_input = torch.rand(2, 5, 10)\n",
    "\n",
    "print(\"Encoder-like input\")\n",
    "print(f'Input shape: {tmp_input.shape}')\n",
    "tmp_output = tmp_layer(tmp_input, tmp_input, tmp_input)\n",
    "print(f'Output shape: {tmp_output.shape}')\n",
    "\n",
    "del tmp_input, tmp_output"
   ]
  },
  {
   "cell_type": "markdown",
   "id": "59d2404a-1fdb-4470-a66c-5cdba29a8790",
   "metadata": {
    "jp-MarkdownHeadingCollapsed": true,
    "tags": []
   },
   "source": [
    "#### Протестируем TransformerEncoderBlock для декодера"
   ]
  },
  {
   "cell_type": "code",
   "execution_count": 23,
   "id": "f82f323e-0c0f-46fd-9a50-dd30d9f9fdee",
   "metadata": {
    "execution": {
     "iopub.execute_input": "2024-02-20T12:30:03.295906Z",
     "iopub.status.busy": "2024-02-20T12:30:03.295132Z",
     "iopub.status.idle": "2024-02-20T12:30:03.311434Z",
     "shell.execute_reply": "2024-02-20T12:30:03.310567Z",
     "shell.execute_reply.started": "2024-02-20T12:30:03.295856Z"
    },
    "tags": []
   },
   "outputs": [
    {
     "data": {
      "text/plain": [
       "TransformerEncoderBlock(\n",
       "  (attention): MultiHeadAttention(\n",
       "    (query_matrix): Linear(in_features=12, out_features=14, bias=False)\n",
       "    (key_matrix): Linear(in_features=10, out_features=14, bias=False)\n",
       "    (value_matrix): Linear(in_features=10, out_features=14, bias=False)\n",
       "    (out): Linear(in_features=14, out_features=15, bias=True)\n",
       "  )\n",
       "  (adapt_residual): Linear(in_features=12, out_features=15, bias=True)\n",
       "  (norm_1): LayerNorm((15,), eps=1e-05, elementwise_affine=True)\n",
       "  (dropout_1): Dropout(p=0.1, inplace=False)\n",
       "  (feed_forward): Sequential(\n",
       "    (lin_1): Linear(in_features=15, out_features=20, bias=True)\n",
       "    (act): ReLU()\n",
       "    (lin_2): Linear(in_features=20, out_features=15, bias=True)\n",
       "  )\n",
       "  (norm_2): LayerNorm((15,), eps=1e-05, elementwise_affine=True)\n",
       "  (dropout_2): Dropout(p=0.1, inplace=False)\n",
       ")"
      ]
     },
     "execution_count": 23,
     "metadata": {},
     "output_type": "execute_result"
    }
   ],
   "source": [
    "tmp_layer = TransformerEncoderBlock(\n",
    "    in_size=10,\n",
    "    head_size=7,\n",
    "    num_heads=2,\n",
    "    out_size=15,\n",
    "    ff_hidden_size=20,\n",
    "    dropout_p=0.1,\n",
    "    query_in_size=12,\n",
    ")\n",
    "\n",
    "tmp_layer"
   ]
  },
  {
   "cell_type": "code",
   "execution_count": 24,
   "id": "f3446cec-0b5a-46b7-b821-ea5a969d37fe",
   "metadata": {
    "execution": {
     "iopub.execute_input": "2024-02-20T12:30:03.797464Z",
     "iopub.status.busy": "2024-02-20T12:30:03.796724Z",
     "iopub.status.idle": "2024-02-20T12:30:03.865604Z",
     "shell.execute_reply": "2024-02-20T12:30:03.864825Z",
     "shell.execute_reply.started": "2024-02-20T12:30:03.797421Z"
    },
    "tags": []
   },
   "outputs": [
    {
     "name": "stdout",
     "output_type": "stream",
     "text": [
      "Encoder+Decoder-like input\n",
      "Input Q shape: torch.Size([2, 5, 12])\n",
      "Input KV shape: torch.Size([2, 7, 10])\n",
      "Output shape: torch.Size([2, 5, 15])\n"
     ]
    }
   ],
   "source": [
    "# Проверяем в прямом проходе из декодера, где мы смешиваем информацию из энкодера и декодера\n",
    "tmp_input_q = torch.rand(2, 5, 12)\n",
    "tmp_input_kv = torch.rand(2, 7, 10)\n",
    "\n",
    "print(\"Encoder+Decoder-like input\")\n",
    "print(f'Input Q shape: {tmp_input_q.shape}')\n",
    "print(f'Input KV shape: {tmp_input_kv.shape}')\n",
    "\n",
    "tmp_output = tmp_layer(tmp_input_q, tmp_input_kv, tmp_input_kv)\n",
    "print(f'Output shape: {tmp_output.shape}')\n",
    "\n",
    "del tmp_input_q, tmp_input_kv, tmp_output"
   ]
  },
  {
   "cell_type": "markdown",
   "id": "a0cf9c2b-fd58-41ce-9d75-d799aaf8ffaa",
   "metadata": {
    "execution": {
     "iopub.execute_input": "2024-02-20T11:40:51.214657Z",
     "iopub.status.busy": "2024-02-20T11:40:51.213938Z",
     "iopub.status.idle": "2024-02-20T11:40:51.236800Z",
     "shell.execute_reply": "2024-02-20T11:40:51.235622Z",
     "shell.execute_reply.started": "2024-02-20T11:40:51.214610Z"
    },
    "jp-MarkdownHeadingCollapsed": true,
    "tags": []
   },
   "source": [
    "#### TransformerEncoder"
   ]
  },
  {
   "cell_type": "markdown",
   "id": "5b57aeb4-9853-49cd-9d0d-4d7c1151d27f",
   "metadata": {
    "execution": {
     "iopub.execute_input": "2024-02-20T11:40:51.214657Z",
     "iopub.status.busy": "2024-02-20T11:40:51.213938Z",
     "iopub.status.idle": "2024-02-20T11:40:51.236800Z",
     "shell.execute_reply": "2024-02-20T11:40:51.235622Z",
     "shell.execute_reply.started": "2024-02-20T11:40:51.214610Z"
    },
    "tags": []
   },
   "source": [
    "**Инициализация:**\n",
    "* _max_seq_len_ ~ максимальный размер в токенах последовательности\n",
    "* _vocab_size_ ~ размер словаря\n",
    "* _emb_size_ ~ размер эмбеддингов на входе\n",
    "* _num_layers_ ~ число TransformerEncoderBlock-ов\n",
    "* _att_out_size_ ~ размер эмбеддингов на выходе attention и блока\n",
    "* _att_head_size_ ~ размер эмбеддингов матриц Q, K, V после преобразования\n",
    "* _num_heads_ ~ число голов attention\n",
    "* _ff_hidden_size_ ~ размер скрытого представления для линейных слоёв\n",
    "* _dropout_p_ ~ вероятность для dropout-ов\n",
    "\n",
    "**Forward:**\n",
    "* _encoder_input_ ~ токены входа в энкодер до эмбеддингов"
   ]
  },
  {
   "cell_type": "code",
   "execution_count": 25,
   "id": "c8222586-c33e-491f-a4ca-0ed8f0604bf1",
   "metadata": {
    "execution": {
     "iopub.execute_input": "2024-02-20T13:28:25.711259Z",
     "iopub.status.busy": "2024-02-20T13:28:25.710245Z",
     "iopub.status.idle": "2024-02-20T13:28:25.731489Z",
     "shell.execute_reply": "2024-02-20T13:28:25.730342Z",
     "shell.execute_reply.started": "2024-02-20T13:28:25.711212Z"
    },
    "tags": []
   },
   "outputs": [],
   "source": [
    "class TransformerEncoder(nn.Module):\n",
    "    \"\"\"\n",
    "    Class for encoder within transformer.\n",
    "    \"\"\"\n",
    "    def __init__(self, max_seq_len, vocab_size, emb_size, num_layers, att_out_size, att_head_size, num_heads, ff_hidden_size, dropout_p):\n",
    "        \"\"\"\n",
    "        Args:\n",
    "            max_seq_len : maximum length of input sequence\n",
    "            vocab_size: size of the vocabulary\n",
    "            emb_size: embeddings size\n",
    "            num_layers: number of encoder layers\n",
    "            att_out_size: output size for attention and each encoder block\n",
    "            att_head_size: size of each attention head\n",
    "            num_heads: number of heads in multihead attention\n",
    "            ff_hidden_size: hidden size for feed forward net\n",
    "            dropout_p: probability for dropout\n",
    "        \"\"\"\n",
    "        super(TransformerEncoder, self).__init__()\n",
    "        \n",
    "        # Запишем все переданые гиперпараметры слоя\n",
    "        self.max_seq_len = max_seq_len\n",
    "        self.vocab_size = vocab_size\n",
    "        self.emb_size = emb_size\n",
    "        self.num_layers = num_layers\n",
    "        self.att_out_size = att_out_size\n",
    "        self.att_head_size = att_head_size\n",
    "        self.num_heads = num_heads\n",
    "        self.ff_hidden_size = ff_hidden_size\n",
    "        self.dropout_p = dropout_p\n",
    "        \n",
    "        self.embedding_layer = nn.Embedding(self.vocab_size, self.emb_size)\n",
    "        self.positional_encoder = PositionalEncoding(self.max_seq_len, self.emb_size)\n",
    "\n",
    "        # Красивая обёртка для модулей в dict\n",
    "        self.encoder_blocks = nn.ModuleDict({\n",
    "            f\"encoder_block_{i}\": TransformerEncoderBlock(\n",
    "                in_size=self.emb_size if i==0 else self.att_out_size,\n",
    "                head_size=self.att_head_size,\n",
    "                num_heads=self.num_heads,\n",
    "                out_size=self.att_out_size,\n",
    "                ff_hidden_size=self.ff_hidden_size,\n",
    "                dropout_p=self.dropout_p,\n",
    "            ) for i in range(self.num_layers)\n",
    "        })\n",
    "    \n",
    "    def forward(self, encoder_input):\n",
    "        # Получаем на вход batch_size x seq_len\n",
    "        encoder_emb = self.embedding_layer(encoder_input)  # (batch_size, seq_len, emb_size)\n",
    "        out = self.positional_encoder(encoder_emb)\n",
    "        for block in self.encoder_blocks.values():\n",
    "            out = block(out, out, out)  # (batch_size, seq_len, att_out_size)\n",
    "\n",
    "        return out"
   ]
  },
  {
   "cell_type": "markdown",
   "id": "10ec5d06-59ce-4a6f-a7de-f77b1b660fba",
   "metadata": {
    "jp-MarkdownHeadingCollapsed": true,
    "tags": []
   },
   "source": [
    "#### Протестируем TransformerEncoder"
   ]
  },
  {
   "cell_type": "code",
   "execution_count": 26,
   "id": "03227809-158a-414b-98d8-e63c185e4d41",
   "metadata": {
    "execution": {
     "iopub.execute_input": "2024-02-20T13:04:26.964609Z",
     "iopub.status.busy": "2024-02-20T13:04:26.963753Z",
     "iopub.status.idle": "2024-02-20T13:04:26.980595Z",
     "shell.execute_reply": "2024-02-20T13:04:26.979857Z",
     "shell.execute_reply.started": "2024-02-20T13:04:26.964558Z"
    },
    "tags": []
   },
   "outputs": [
    {
     "data": {
      "text/plain": [
       "TransformerEncoder(\n",
       "  (embedding_layer): Embedding(10000, 10)\n",
       "  (positional_encoder): PositionalEncoding()\n",
       "  (encoder_blocks): ModuleDict(\n",
       "    (encoder_block_0): TransformerEncoderBlock(\n",
       "      (attention): MultiHeadAttention(\n",
       "        (query_matrix): Linear(in_features=10, out_features=14, bias=False)\n",
       "        (key_matrix): Linear(in_features=10, out_features=14, bias=False)\n",
       "        (value_matrix): Linear(in_features=10, out_features=14, bias=False)\n",
       "        (out): Linear(in_features=14, out_features=15, bias=True)\n",
       "      )\n",
       "      (adapt_residual): Linear(in_features=10, out_features=15, bias=True)\n",
       "      (norm_1): LayerNorm((15,), eps=1e-05, elementwise_affine=True)\n",
       "      (dropout_1): Dropout(p=0.1, inplace=False)\n",
       "      (feed_forward): Sequential(\n",
       "        (lin_1): Linear(in_features=15, out_features=20, bias=True)\n",
       "        (act): ReLU()\n",
       "        (lin_2): Linear(in_features=20, out_features=15, bias=True)\n",
       "      )\n",
       "      (norm_2): LayerNorm((15,), eps=1e-05, elementwise_affine=True)\n",
       "      (dropout_2): Dropout(p=0.1, inplace=False)\n",
       "    )\n",
       "    (encoder_block_1): TransformerEncoderBlock(\n",
       "      (attention): MultiHeadAttention(\n",
       "        (query_matrix): Linear(in_features=15, out_features=14, bias=False)\n",
       "        (key_matrix): Linear(in_features=15, out_features=14, bias=False)\n",
       "        (value_matrix): Linear(in_features=15, out_features=14, bias=False)\n",
       "        (out): Linear(in_features=14, out_features=15, bias=True)\n",
       "      )\n",
       "      (adapt_residual): Identity()\n",
       "      (norm_1): LayerNorm((15,), eps=1e-05, elementwise_affine=True)\n",
       "      (dropout_1): Dropout(p=0.1, inplace=False)\n",
       "      (feed_forward): Sequential(\n",
       "        (lin_1): Linear(in_features=15, out_features=20, bias=True)\n",
       "        (act): ReLU()\n",
       "        (lin_2): Linear(in_features=20, out_features=15, bias=True)\n",
       "      )\n",
       "      (norm_2): LayerNorm((15,), eps=1e-05, elementwise_affine=True)\n",
       "      (dropout_2): Dropout(p=0.1, inplace=False)\n",
       "    )\n",
       "  )\n",
       ")"
      ]
     },
     "execution_count": 26,
     "metadata": {},
     "output_type": "execute_result"
    }
   ],
   "source": [
    "tmp_layer = TransformerEncoder(\n",
    "    max_seq_len=20,\n",
    "    vocab_size=10000,\n",
    "    emb_size=10,\n",
    "    num_layers=2,\n",
    "    att_head_size=7,\n",
    "    num_heads=2,\n",
    "    att_out_size=15,\n",
    "    ff_hidden_size=20,\n",
    "    dropout_p=0.1,\n",
    ")\n",
    "\n",
    "tmp_layer"
   ]
  },
  {
   "cell_type": "code",
   "execution_count": 27,
   "id": "049bdc1d-c8f8-4483-91e0-3e11033e392c",
   "metadata": {
    "execution": {
     "iopub.execute_input": "2024-02-20T13:04:27.385166Z",
     "iopub.status.busy": "2024-02-20T13:04:27.384655Z",
     "iopub.status.idle": "2024-02-20T13:04:27.408219Z",
     "shell.execute_reply": "2024-02-20T13:04:27.407351Z",
     "shell.execute_reply.started": "2024-02-20T13:04:27.385124Z"
    },
    "tags": []
   },
   "outputs": [
    {
     "name": "stdout",
     "output_type": "stream",
     "text": [
      "Input shape: torch.Size([2, 5])\n",
      "Output shape: torch.Size([2, 5, 15])\n"
     ]
    }
   ],
   "source": [
    "tmp_input = torch.randint(10000, (2, 5))\n",
    "\n",
    "print(f'Input shape: {tmp_input.shape}')\n",
    "tmp_output = tmp_layer(tmp_input)\n",
    "print(f'Output shape: {tmp_output.shape}')\n",
    "\n",
    "del tmp_input, tmp_output"
   ]
  },
  {
   "cell_type": "markdown",
   "id": "d0566312-c9a0-4ce7-bb7c-0de7a8dc490f",
   "metadata": {},
   "source": [
    "### 1.4 Decoder"
   ]
  },
  {
   "cell_type": "markdown",
   "id": "569106a5-9886-4b9d-8ee8-09322e91c810",
   "metadata": {},
   "source": [
    "#### Картинка"
   ]
  },
  {
   "cell_type": "markdown",
   "id": "e92c1c76-bd4e-4fd7-9b69-a34979e2f939",
   "metadata": {},
   "source": [
    "<img src=\"https://i.pinimg.com/736x/c1/83/1a/c1831a58ecc935fc0f2ef4d35ce4fddb.jpg\" width=500>"
   ]
  },
  {
   "cell_type": "markdown",
   "id": "43308427-25ec-4d73-b632-84b6a814ac18",
   "metadata": {
    "execution": {
     "iopub.execute_input": "2024-02-20T11:40:51.214657Z",
     "iopub.status.busy": "2024-02-20T11:40:51.213938Z",
     "iopub.status.idle": "2024-02-20T11:40:51.236800Z",
     "shell.execute_reply": "2024-02-20T11:40:51.235622Z",
     "shell.execute_reply.started": "2024-02-20T11:40:51.214610Z"
    },
    "tags": []
   },
   "source": [
    "#### TransformerDecoderBlock"
   ]
  },
  {
   "cell_type": "markdown",
   "id": "4692af8f-7ba7-40d1-a319-b2699f1e0d40",
   "metadata": {
    "execution": {
     "iopub.execute_input": "2024-02-20T11:40:51.214657Z",
     "iopub.status.busy": "2024-02-20T11:40:51.213938Z",
     "iopub.status.idle": "2024-02-20T11:40:51.236800Z",
     "shell.execute_reply": "2024-02-20T11:40:51.235622Z",
     "shell.execute_reply.started": "2024-02-20T11:40:51.214610Z"
    },
    "tags": []
   },
   "source": [
    "**Инициализация:**\n",
    "* _in_size_ ~ размер эмбеддингов на входе\n",
    "* _head_size_ ~ размер эмбеддингов матриц Q, K, V после преобразования\n",
    "* _num_heads_ ~ число голов attention\n",
    "* _out_size_ ~ размер эмбеддингов на выходе attention и блока\n",
    "* _ff_hidden_size_ ~ размер скрытого представления для линейных слоёв\n",
    "* _dropout_p_ ~ вероятность для dropout-ов\n",
    "* _encoder_out_size_ ~ размер эмбеддингов на выходе энкодера (если None, то in_size)\n",
    "\n",
    "**Forward:**\n",
    "* _decoder_emb_ ~ тензор, пришедший из предыдущего блока, или эмбеддинги с позиционными\n",
    "* _encoder_output_ ~ выходной тензор из соответствующего энкодера"
   ]
  },
  {
   "cell_type": "code",
   "execution_count": 28,
   "id": "c4f155f6-b3f5-41d5-84fb-a826069c0e7c",
   "metadata": {
    "execution": {
     "iopub.execute_input": "2024-02-20T13:52:29.115270Z",
     "iopub.status.busy": "2024-02-20T13:52:29.114448Z",
     "iopub.status.idle": "2024-02-20T13:52:29.142401Z",
     "shell.execute_reply": "2024-02-20T13:52:29.141605Z",
     "shell.execute_reply.started": "2024-02-20T13:52:29.115205Z"
    },
    "tags": []
   },
   "outputs": [],
   "source": [
    "class TransformerDecoderBlock(nn.Module):\n",
    "    \"\"\"\n",
    "    Class with one full block within transformer's decoder\n",
    "    \"\"\"\n",
    "    def __init__(self, in_size, head_size, num_heads, out_size, ff_hidden_size, dropout_p=0.2, encoder_out_size=None):\n",
    "        \"\"\"\n",
    "        Args:\n",
    "           in_size: input embedding size\n",
    "           head_size: size of each attention head\n",
    "           num_heads: number of attention heads\n",
    "           out_size: output embedding size\n",
    "           ff_hidden_size: hidden size for feed forward net\n",
    "           dropout_p: probability for dropout\n",
    "           encoder_out_size: embedding size of outputs from encoder (if not provided - same as in_size)\n",
    "        \"\"\"\n",
    "        super(TransformerDecoderBlock, self).__init__()\n",
    "        \n",
    "        # Запишем все переданые гиперпараметры слоя\n",
    "        self.in_size = in_size\n",
    "        self.head_size = head_size\n",
    "        self.num_heads = num_heads\n",
    "        self.out_size = out_size\n",
    "        self.ff_hidden_size = ff_hidden_size\n",
    "        self.dropout_p = dropout_p\n",
    "        self.encoder_out_size = in_size if encoder_out_size is None else encoder_out_size\n",
    "        \n",
    "        \n",
    "        self.masked_attention = MultiHeadAttention(self.in_size, self.head_size, self.num_heads, self.out_size)\n",
    "        # Если выход и вход attention-а имеют разный размер, то используем линейный слой на residual connection-е\n",
    "        if self.in_size != self.out_size:\n",
    "            self.adapt_residual = nn.Linear(self.in_size, self.out_size)\n",
    "        else:\n",
    "            self.adapt_residual = nn.Identity()\n",
    "        self.norm = nn.LayerNorm(self.out_size)\n",
    "        self.dropout = nn.Dropout(self.dropout_p)\n",
    "        self.encoder_block = TransformerEncoderBlock(self.encoder_out_size, self.head_size, self.num_heads, self.out_size, self.ff_hidden_size, self.dropout_p, self.out_size)\n",
    "        \n",
    "    \n",
    "    def forward(self, decoder_emb, encoder_output):\n",
    "        \"\"\"\n",
    "        Args:\n",
    "           decoder_emb: decoder sequence after embed\n",
    "           encoder_output: output from encoder\n",
    "        \"\"\"\n",
    "        # Получаем на вход тензор batch_size x seq_len x in_size и тензор batch_size x encoder_seq_len x encoder_out_size\n",
    "        mask = make_decoder_mask(decoder_emb)  # batch_size x 1 x seq_len x seq_len\n",
    "        attention = self.masked_attention(decoder_emb, decoder_emb, decoder_emb, mask=mask)  # batch_size x seq_len x out_size\n",
    "        mmha_out = self.dropout(self.norm(attention + self.adapt_residual(decoder_emb)))\n",
    "        \n",
    "        return self.encoder_block(query=mmha_out, key=encoder_output, value=encoder_output)  # batch_size x seq_len x out_size"
   ]
  },
  {
   "cell_type": "markdown",
   "id": "a1aab54d-11d2-4619-a97b-cb26c76291e0",
   "metadata": {
    "jp-MarkdownHeadingCollapsed": true,
    "tags": []
   },
   "source": [
    "#### Протестируем TransformerDecoderBlock"
   ]
  },
  {
   "cell_type": "code",
   "execution_count": 29,
   "id": "1a8e1323-d608-4bf2-91f3-549bebfeacc7",
   "metadata": {
    "execution": {
     "iopub.execute_input": "2024-02-20T13:20:21.719160Z",
     "iopub.status.busy": "2024-02-20T13:20:21.718303Z",
     "iopub.status.idle": "2024-02-20T13:20:21.735779Z",
     "shell.execute_reply": "2024-02-20T13:20:21.734935Z",
     "shell.execute_reply.started": "2024-02-20T13:20:21.719124Z"
    },
    "tags": []
   },
   "outputs": [
    {
     "data": {
      "text/plain": [
       "TransformerDecoderBlock(\n",
       "  (masked_attention): MultiHeadAttention(\n",
       "    (query_matrix): Linear(in_features=10, out_features=14, bias=False)\n",
       "    (key_matrix): Linear(in_features=10, out_features=14, bias=False)\n",
       "    (value_matrix): Linear(in_features=10, out_features=14, bias=False)\n",
       "    (out): Linear(in_features=14, out_features=15, bias=True)\n",
       "  )\n",
       "  (adapt_residual): Linear(in_features=10, out_features=15, bias=True)\n",
       "  (norm): LayerNorm((15,), eps=1e-05, elementwise_affine=True)\n",
       "  (dropout): Dropout(p=0.1, inplace=False)\n",
       "  (encoder_block): TransformerEncoderBlock(\n",
       "    (attention): MultiHeadAttention(\n",
       "      (query_matrix): Linear(in_features=15, out_features=14, bias=False)\n",
       "      (key_matrix): Linear(in_features=12, out_features=14, bias=False)\n",
       "      (value_matrix): Linear(in_features=12, out_features=14, bias=False)\n",
       "      (out): Linear(in_features=14, out_features=15, bias=True)\n",
       "    )\n",
       "    (adapt_residual): Identity()\n",
       "    (norm_1): LayerNorm((15,), eps=1e-05, elementwise_affine=True)\n",
       "    (dropout_1): Dropout(p=0.1, inplace=False)\n",
       "    (feed_forward): Sequential(\n",
       "      (lin_1): Linear(in_features=15, out_features=20, bias=True)\n",
       "      (act): ReLU()\n",
       "      (lin_2): Linear(in_features=20, out_features=15, bias=True)\n",
       "    )\n",
       "    (norm_2): LayerNorm((15,), eps=1e-05, elementwise_affine=True)\n",
       "    (dropout_2): Dropout(p=0.1, inplace=False)\n",
       "  )\n",
       ")"
      ]
     },
     "execution_count": 29,
     "metadata": {},
     "output_type": "execute_result"
    }
   ],
   "source": [
    "tmp_layer = TransformerDecoderBlock(\n",
    "    in_size=10,\n",
    "    head_size=7,\n",
    "    num_heads=2,\n",
    "    out_size=15,\n",
    "    ff_hidden_size=20,\n",
    "    dropout_p=0.1,\n",
    "    encoder_out_size=12,\n",
    ")\n",
    "\n",
    "tmp_layer"
   ]
  },
  {
   "cell_type": "code",
   "execution_count": 30,
   "id": "65a9e1b5-ba17-4dfe-ae24-6b4aced2d8a5",
   "metadata": {
    "execution": {
     "iopub.execute_input": "2024-02-20T13:20:31.067456Z",
     "iopub.status.busy": "2024-02-20T13:20:31.066686Z",
     "iopub.status.idle": "2024-02-20T13:20:31.112756Z",
     "shell.execute_reply": "2024-02-20T13:20:31.111849Z",
     "shell.execute_reply.started": "2024-02-20T13:20:31.067411Z"
    },
    "tags": []
   },
   "outputs": [
    {
     "name": "stdout",
     "output_type": "stream",
     "text": [
      "Encoder+Decoder-like input\n",
      "Decoder input shape: torch.Size([2, 5, 10])\n",
      "Encoder output shape: torch.Size([2, 7, 12])\n",
      "Output shape: torch.Size([2, 5, 15])\n"
     ]
    }
   ],
   "source": [
    "# Проверяем в прямом проходе из декодера, где мы смешиваем информацию из энкодера и декодера\n",
    "tmp_input_decoder = torch.rand(2, 5, 10)\n",
    "tmp_output_encoder = torch.rand(2, 7, 12)\n",
    "\n",
    "print(\"Encoder+Decoder-like input\")\n",
    "print(f'Decoder input shape: {tmp_input_decoder.shape}')\n",
    "print(f'Encoder output shape: {tmp_output_encoder.shape}')\n",
    "\n",
    "tmp_output = tmp_layer(tmp_input_decoder, tmp_output_encoder)\n",
    "print(f'Output shape: {tmp_output.shape}')\n",
    "\n",
    "del tmp_input_decoder, tmp_output_encoder"
   ]
  },
  {
   "cell_type": "markdown",
   "id": "43f13686-2123-468a-af3d-e150e798dbef",
   "metadata": {
    "execution": {
     "iopub.execute_input": "2024-02-20T11:40:51.214657Z",
     "iopub.status.busy": "2024-02-20T11:40:51.213938Z",
     "iopub.status.idle": "2024-02-20T11:40:51.236800Z",
     "shell.execute_reply": "2024-02-20T11:40:51.235622Z",
     "shell.execute_reply.started": "2024-02-20T11:40:51.214610Z"
    },
    "tags": []
   },
   "source": [
    "#### TransformerDecoder"
   ]
  },
  {
   "cell_type": "markdown",
   "id": "a9219bd1-e968-4a6d-86e4-684803192472",
   "metadata": {
    "execution": {
     "iopub.execute_input": "2024-02-20T11:40:51.214657Z",
     "iopub.status.busy": "2024-02-20T11:40:51.213938Z",
     "iopub.status.idle": "2024-02-20T11:40:51.236800Z",
     "shell.execute_reply": "2024-02-20T11:40:51.235622Z",
     "shell.execute_reply.started": "2024-02-20T11:40:51.214610Z"
    },
    "tags": []
   },
   "source": [
    "**Инициализация:**\n",
    "* _max_seq_len_ ~ максимальный размер в токенах последовательности\n",
    "* _vocab_size_ ~ размер словаря\n",
    "* _emb_size_ ~ размер эмбеддингов на входе\n",
    "* _num_layers_ ~ число TransformerEncoderBlock-ов\n",
    "* _att_out_size_ ~ размер эмбеддингов на выходе attention и блока\n",
    "* _att_head_size_ ~ размер эмбеддингов матриц Q, K, V после преобразования\n",
    "* _num_heads_ ~ число голов attention\n",
    "* _ff_hidden_size_ ~ размер скрытого представления для линейных слоёв\n",
    "* _dropout_p_ ~ вероятность для dropout-ов\n",
    "* _encoder_out_size_ ~ размер эмбеддингов на выходе энкодера (если None, то in_size)\n",
    "\n",
    "**Forward:**\n",
    "* _decoder_input_ ~ токены входа в декодер до эмбеддингов\n",
    "* _encoder_output_ ~ выходной тензор из соответствующего энкодера"
   ]
  },
  {
   "cell_type": "code",
   "execution_count": 31,
   "id": "7f0b2859-d668-4696-850f-aca7b73ead7d",
   "metadata": {
    "execution": {
     "iopub.execute_input": "2024-02-20T15:17:26.734331Z",
     "iopub.status.busy": "2024-02-20T15:17:26.733384Z",
     "iopub.status.idle": "2024-02-20T15:17:26.769625Z",
     "shell.execute_reply": "2024-02-20T15:17:26.768701Z",
     "shell.execute_reply.started": "2024-02-20T15:17:26.734288Z"
    },
    "tags": []
   },
   "outputs": [],
   "source": [
    "class TransformerDecoder(nn.Module):\n",
    "    \"\"\"\n",
    "    Class for decoder within transformer.\n",
    "    \"\"\"\n",
    "    def __init__(self, max_seq_len, vocab_size, emb_size, num_layers, att_out_size, att_head_size, num_heads, ff_hidden_size, dropout_p, encoder_out_size=None):\n",
    "        \"\"\"  \n",
    "        Args:\n",
    "            max_seq_len : maximum length of input sequence\n",
    "            vocab_size: size of the vocabulary\n",
    "            emb_size: embeddings size\n",
    "            num_layers: number of encoder layers\n",
    "            att_out_size: output size for attention and each encoder block\n",
    "            att_head_size: size of each attention head\n",
    "            num_heads: number of heads in multihead attention\n",
    "            ff_hidden_size: hidden size for feed forward net\n",
    "            dropout_p: probability for dropout\n",
    "            encoder_out_size: embedding size of outputs from encoder (if not provided - same as in_size)\n",
    "        \"\"\"\n",
    "        super(TransformerDecoder, self).__init__()\n",
    "                \n",
    "        # Запишем все переданые гиперпараметры слоя\n",
    "        self.max_seq_len = max_seq_len\n",
    "        self.vocab_size = vocab_size\n",
    "        self.emb_size = emb_size\n",
    "        self.num_layers = num_layers\n",
    "        self.att_out_size = att_out_size\n",
    "        self.att_head_size = att_head_size\n",
    "        self.num_heads = num_heads\n",
    "        self.ff_hidden_size = ff_hidden_size\n",
    "        self.dropout_p = dropout_p\n",
    "        self.encoder_out_size = self.emb_size if encoder_out_size is None else encoder_out_size\n",
    "        \n",
    "        self.embedding_layer = nn.Embedding(self.vocab_size, self.emb_size)\n",
    "        self.positional_encoder = PositionalEncoding(self.max_seq_len, self.emb_size)\n",
    "        self.dropout = nn.Dropout(self.dropout_p)\n",
    "\n",
    "        self.decoder_blocks = nn.ModuleDict({\n",
    "            f\"decoder_block_{i}\": TransformerDecoderBlock(\n",
    "                in_size=self.emb_size if i==0 else self.att_out_size,\n",
    "                head_size=self.att_head_size,\n",
    "                num_heads=self.num_heads,\n",
    "                out_size=self.att_out_size,\n",
    "                ff_hidden_size=self.ff_hidden_size,\n",
    "                dropout_p=self.dropout_p,\n",
    "                encoder_out_size=self.encoder_out_size,\n",
    "            ) for i in range(self.num_layers)\n",
    "        })\n",
    "        \n",
    "        self.fc = nn.Linear(self.att_out_size, self.vocab_size)\n",
    "\n",
    "    def forward(self, decoder_input, encoder_output):\n",
    "        \"\"\"\n",
    "        Args:\n",
    "            decoder_input:\n",
    "            encoder_output:\n",
    "        Returns:\n",
    "            out: output vector\n",
    "        \"\"\"\n",
    "        # Получаем на вход batch_size x seq_len и batch_size x encoder_seq_len x encoder_out_size\n",
    "        decoder_emb = self.embedding_layer(decoder_input)  # batch_size x seq_len x emb_size\n",
    "        decoder_emb = self.positional_encoder(decoder_emb)\n",
    "        \n",
    "        out = self.dropout(decoder_emb)\n",
    "     \n",
    "        for block in self.decoder_blocks.values():\n",
    "            out = block(out, encoder_output)  # batch_size x seq_len x att_out_size\n",
    "\n",
    "        return self.fc(out)"
   ]
  },
  {
   "cell_type": "markdown",
   "id": "0536e4c0-fb20-458b-8a45-b7d6ba0314a8",
   "metadata": {
    "tags": []
   },
   "source": [
    "#### Протестируем TransformerDecoder"
   ]
  },
  {
   "cell_type": "code",
   "execution_count": 32,
   "id": "10b1ff27-7320-473c-a72b-8442eff5f423",
   "metadata": {
    "execution": {
     "iopub.execute_input": "2024-02-20T15:17:26.893345Z",
     "iopub.status.busy": "2024-02-20T15:17:26.892459Z",
     "iopub.status.idle": "2024-02-20T15:17:26.909920Z",
     "shell.execute_reply": "2024-02-20T15:17:26.909233Z",
     "shell.execute_reply.started": "2024-02-20T15:17:26.893297Z"
    },
    "tags": []
   },
   "outputs": [
    {
     "data": {
      "text/plain": [
       "TransformerDecoder(\n",
       "  (embedding_layer): Embedding(10000, 10)\n",
       "  (positional_encoder): PositionalEncoding()\n",
       "  (dropout): Dropout(p=0.1, inplace=False)\n",
       "  (decoder_blocks): ModuleDict(\n",
       "    (decoder_block_0): TransformerDecoderBlock(\n",
       "      (masked_attention): MultiHeadAttention(\n",
       "        (query_matrix): Linear(in_features=10, out_features=14, bias=False)\n",
       "        (key_matrix): Linear(in_features=10, out_features=14, bias=False)\n",
       "        (value_matrix): Linear(in_features=10, out_features=14, bias=False)\n",
       "        (out): Linear(in_features=14, out_features=15, bias=True)\n",
       "      )\n",
       "      (adapt_residual): Linear(in_features=10, out_features=15, bias=True)\n",
       "      (norm): LayerNorm((15,), eps=1e-05, elementwise_affine=True)\n",
       "      (dropout): Dropout(p=0.1, inplace=False)\n",
       "      (encoder_block): TransformerEncoderBlock(\n",
       "        (attention): MultiHeadAttention(\n",
       "          (query_matrix): Linear(in_features=15, out_features=14, bias=False)\n",
       "          (key_matrix): Linear(in_features=12, out_features=14, bias=False)\n",
       "          (value_matrix): Linear(in_features=12, out_features=14, bias=False)\n",
       "          (out): Linear(in_features=14, out_features=15, bias=True)\n",
       "        )\n",
       "        (adapt_residual): Identity()\n",
       "        (norm_1): LayerNorm((15,), eps=1e-05, elementwise_affine=True)\n",
       "        (dropout_1): Dropout(p=0.1, inplace=False)\n",
       "        (feed_forward): Sequential(\n",
       "          (lin_1): Linear(in_features=15, out_features=20, bias=True)\n",
       "          (act): ReLU()\n",
       "          (lin_2): Linear(in_features=20, out_features=15, bias=True)\n",
       "        )\n",
       "        (norm_2): LayerNorm((15,), eps=1e-05, elementwise_affine=True)\n",
       "        (dropout_2): Dropout(p=0.1, inplace=False)\n",
       "      )\n",
       "    )\n",
       "    (decoder_block_1): TransformerDecoderBlock(\n",
       "      (masked_attention): MultiHeadAttention(\n",
       "        (query_matrix): Linear(in_features=15, out_features=14, bias=False)\n",
       "        (key_matrix): Linear(in_features=15, out_features=14, bias=False)\n",
       "        (value_matrix): Linear(in_features=15, out_features=14, bias=False)\n",
       "        (out): Linear(in_features=14, out_features=15, bias=True)\n",
       "      )\n",
       "      (adapt_residual): Identity()\n",
       "      (norm): LayerNorm((15,), eps=1e-05, elementwise_affine=True)\n",
       "      (dropout): Dropout(p=0.1, inplace=False)\n",
       "      (encoder_block): TransformerEncoderBlock(\n",
       "        (attention): MultiHeadAttention(\n",
       "          (query_matrix): Linear(in_features=15, out_features=14, bias=False)\n",
       "          (key_matrix): Linear(in_features=12, out_features=14, bias=False)\n",
       "          (value_matrix): Linear(in_features=12, out_features=14, bias=False)\n",
       "          (out): Linear(in_features=14, out_features=15, bias=True)\n",
       "        )\n",
       "        (adapt_residual): Identity()\n",
       "        (norm_1): LayerNorm((15,), eps=1e-05, elementwise_affine=True)\n",
       "        (dropout_1): Dropout(p=0.1, inplace=False)\n",
       "        (feed_forward): Sequential(\n",
       "          (lin_1): Linear(in_features=15, out_features=20, bias=True)\n",
       "          (act): ReLU()\n",
       "          (lin_2): Linear(in_features=20, out_features=15, bias=True)\n",
       "        )\n",
       "        (norm_2): LayerNorm((15,), eps=1e-05, elementwise_affine=True)\n",
       "        (dropout_2): Dropout(p=0.1, inplace=False)\n",
       "      )\n",
       "    )\n",
       "  )\n",
       "  (fc): Linear(in_features=15, out_features=10000, bias=True)\n",
       ")"
      ]
     },
     "execution_count": 32,
     "metadata": {},
     "output_type": "execute_result"
    }
   ],
   "source": [
    "tmp_layer = TransformerDecoder(\n",
    "    max_seq_len=20,\n",
    "    vocab_size=10000,\n",
    "    emb_size=10,\n",
    "    num_layers=2,\n",
    "    att_head_size=7,\n",
    "    num_heads=2,\n",
    "    att_out_size=15,\n",
    "    ff_hidden_size=20,\n",
    "    dropout_p=0.1,\n",
    "    encoder_out_size=12,\n",
    ")\n",
    "\n",
    "tmp_layer"
   ]
  },
  {
   "cell_type": "code",
   "execution_count": 33,
   "id": "47d819cf-374e-4ef4-9153-d4b2e3252092",
   "metadata": {
    "execution": {
     "iopub.execute_input": "2024-02-20T15:17:27.012918Z",
     "iopub.status.busy": "2024-02-20T15:17:27.012096Z",
     "iopub.status.idle": "2024-02-20T15:17:27.028677Z",
     "shell.execute_reply": "2024-02-20T15:17:27.028020Z",
     "shell.execute_reply.started": "2024-02-20T15:17:27.012869Z"
    },
    "tags": []
   },
   "outputs": [
    {
     "name": "stdout",
     "output_type": "stream",
     "text": [
      "Encoder+Decoder-like input\n",
      "Decoder input shape: torch.Size([2, 5])\n",
      "Encoder output shape: torch.Size([2, 7, 12])\n",
      "Output shape: torch.Size([2, 5, 10000])\n"
     ]
    }
   ],
   "source": [
    "# Проверяем в прямом проходе из декодера, где мы смешиваем информацию из энкодера и декодера\n",
    "tmp_input_decoder = torch.randint(10000, (2, 5))\n",
    "tmp_output_encoder = torch.rand(2, 7, 12)\n",
    "\n",
    "print(\"Encoder+Decoder-like input\")\n",
    "print(f'Decoder input shape: {tmp_input_decoder.shape}')\n",
    "print(f'Encoder output shape: {tmp_output_encoder.shape}')\n",
    "\n",
    "tmp_output = tmp_layer(tmp_input_decoder, tmp_output_encoder)\n",
    "print(f'Output shape: {tmp_output.shape}')\n",
    "\n",
    "del tmp_input_decoder, tmp_output_encoder"
   ]
  },
  {
   "cell_type": "markdown",
   "id": "db6c6a6d-48d2-4033-a578-1ac1221f08b0",
   "metadata": {},
   "source": [
    "### 1.5 Transformer"
   ]
  },
  {
   "cell_type": "code",
   "execution_count": 34,
   "id": "e6147cef-1674-43ff-bade-be5ac114e00e",
   "metadata": {
    "execution": {
     "iopub.execute_input": "2024-02-20T13:43:19.034297Z",
     "iopub.status.busy": "2024-02-20T13:43:19.033190Z",
     "iopub.status.idle": "2024-02-20T13:43:19.048531Z",
     "shell.execute_reply": "2024-02-20T13:43:19.047827Z",
     "shell.execute_reply.started": "2024-02-20T13:43:19.034246Z"
    }
   },
   "outputs": [],
   "source": [
    "class Transformer(nn.Module):\n",
    "    \"\"\"\n",
    "    Class for full encoder-deccoder transformer\n",
    "    \"\"\"\n",
    "    def __init__(\n",
    "        self,\n",
    "        max_seq_len,\n",
    "        vocab_size,\n",
    "        emb_size,\n",
    "        \n",
    "        num_encoder_layers,\n",
    "        enc_att_out_size,\n",
    "        enc_att_head_size,\n",
    "        enc_num_heads,\n",
    "        enc_ff_hidden_size,\n",
    "        enc_dropout_p,\n",
    "        \n",
    "        num_decoder_layers,\n",
    "        dec_att_out_size,\n",
    "        dec_att_head_size,\n",
    "        dec_num_heads,\n",
    "        dec_ff_hidden_size,\n",
    "        dec_dropout_p,\n",
    "    ):\n",
    "        super(Transformer, self).__init__()\n",
    "        \n",
    "        # Запишем все переданые гиперпараметры модели\n",
    "        self.max_seq_len = max_seq_len\n",
    "        self.vocab_size = vocab_size\n",
    "        self.emb_size = emb_size\n",
    "        \n",
    "        self.num_encoder_layers = num_encoder_layers\n",
    "        self.enc_att_out_size = enc_att_out_size\n",
    "        self.enc_att_head_size = enc_att_head_size\n",
    "        self.enc_num_heads = enc_num_heads\n",
    "        self.enc_ff_hidden_size = enc_ff_hidden_size\n",
    "        self.enc_dropout_p = enc_dropout_p\n",
    "        \n",
    "        self.num_decoder_layers = num_decoder_layers\n",
    "        self.dec_att_out_size = dec_att_out_size\n",
    "        self.dec_att_head_size = dec_att_out_size\n",
    "        self.dec_num_heads = dec_num_heads\n",
    "        self.dec_ff_hidden_size = dec_ff_hidden_size\n",
    "        self.dec_dropout_p = dec_dropout_p\n",
    "\n",
    "        # Encoder\n",
    "        self.encoder = TransformerEncoder(\n",
    "            max_seq_len=self.max_seq_len,\n",
    "            vocab_size=self.vocab_size,\n",
    "            emb_size=self.emb_size,\n",
    "            num_layers=self.num_encoder_layers,\n",
    "            att_head_size=self.enc_att_head_size,\n",
    "            num_heads=self.enc_num_heads,\n",
    "            att_out_size=self.enc_att_out_size,\n",
    "            ff_hidden_size=self.enc_ff_hidden_size,\n",
    "            dropout_p=self.enc_dropout_p,\n",
    "        )\n",
    "        \n",
    "        # Decoder\n",
    "        self.decoder = TransformerDecoder(\n",
    "            max_seq_len=self.max_seq_len,\n",
    "            vocab_size=self.vocab_size,\n",
    "            emb_size=self.emb_size,\n",
    "            num_layers=self.num_decoder_layers,\n",
    "            att_head_size=self.dec_att_head_size,\n",
    "            num_heads=self.dec_num_heads,\n",
    "            att_out_size=self.dec_att_out_size,\n",
    "            ff_hidden_size=self.dec_ff_hidden_size,\n",
    "            dropout_p=self.dec_dropout_p,\n",
    "            encoder_out_size=self.enc_att_out_size,\n",
    "        )\n",
    "    \n",
    "    def forward(self, encoder_input, decoder_input):\n",
    "        \"\"\"\n",
    "        Args:\n",
    "            encoder_input: input to encoder \n",
    "            decoder_input: input to decoder\n",
    "        out:\n",
    "            out: final tensor with logits of each word in vocab\n",
    "        \"\"\"\n",
    "        # Получаем на вход batch_size x enc_seq_len и batch_size x dec_seq_len\n",
    "        encoder_output = self.encoder(encoder_input)  # (batch_size, enc_seq_len, enc_att_out_size)\n",
    "   \n",
    "        return self.decoder(decoder_input, encoder_output)  # (batch_size, dec_seq_len, vocab_size)"
   ]
  },
  {
   "cell_type": "markdown",
   "id": "00dadcfc-be2d-4715-9a46-3917865c1619",
   "metadata": {},
   "source": [
    "### 1.6 Тестируем"
   ]
  },
  {
   "cell_type": "code",
   "execution_count": 35,
   "id": "9ad2cdcb-8b28-4b90-a161-04fc0e9e97e9",
   "metadata": {
    "execution": {
     "iopub.execute_input": "2024-02-20T13:45:05.051981Z",
     "iopub.status.busy": "2024-02-20T13:45:05.051245Z",
     "iopub.status.idle": "2024-02-20T13:45:05.075291Z",
     "shell.execute_reply": "2024-02-20T13:45:05.074618Z",
     "shell.execute_reply.started": "2024-02-20T13:45:05.051936Z"
    },
    "scrolled": true,
    "tags": []
   },
   "outputs": [
    {
     "data": {
      "text/plain": [
       "Transformer(\n",
       "  (encoder): TransformerEncoder(\n",
       "    (embedding_layer): Embedding(10000, 10)\n",
       "    (positional_encoder): PositionalEncoding()\n",
       "    (encoder_blocks): ModuleDict(\n",
       "      (encoder_block_0): TransformerEncoderBlock(\n",
       "        (attention): MultiHeadAttention(\n",
       "          (query_matrix): Linear(in_features=10, out_features=21, bias=False)\n",
       "          (key_matrix): Linear(in_features=10, out_features=21, bias=False)\n",
       "          (value_matrix): Linear(in_features=10, out_features=21, bias=False)\n",
       "          (out): Linear(in_features=21, out_features=20, bias=True)\n",
       "        )\n",
       "        (adapt_residual): Linear(in_features=10, out_features=20, bias=True)\n",
       "        (norm_1): LayerNorm((20,), eps=1e-05, elementwise_affine=True)\n",
       "        (dropout_1): Dropout(p=0.2, inplace=False)\n",
       "        (feed_forward): Sequential(\n",
       "          (lin_1): Linear(in_features=20, out_features=30, bias=True)\n",
       "          (act): ReLU()\n",
       "          (lin_2): Linear(in_features=30, out_features=20, bias=True)\n",
       "        )\n",
       "        (norm_2): LayerNorm((20,), eps=1e-05, elementwise_affine=True)\n",
       "        (dropout_2): Dropout(p=0.2, inplace=False)\n",
       "      )\n",
       "      (encoder_block_1): TransformerEncoderBlock(\n",
       "        (attention): MultiHeadAttention(\n",
       "          (query_matrix): Linear(in_features=20, out_features=21, bias=False)\n",
       "          (key_matrix): Linear(in_features=20, out_features=21, bias=False)\n",
       "          (value_matrix): Linear(in_features=20, out_features=21, bias=False)\n",
       "          (out): Linear(in_features=21, out_features=20, bias=True)\n",
       "        )\n",
       "        (adapt_residual): Identity()\n",
       "        (norm_1): LayerNorm((20,), eps=1e-05, elementwise_affine=True)\n",
       "        (dropout_1): Dropout(p=0.2, inplace=False)\n",
       "        (feed_forward): Sequential(\n",
       "          (lin_1): Linear(in_features=20, out_features=30, bias=True)\n",
       "          (act): ReLU()\n",
       "          (lin_2): Linear(in_features=30, out_features=20, bias=True)\n",
       "        )\n",
       "        (norm_2): LayerNorm((20,), eps=1e-05, elementwise_affine=True)\n",
       "        (dropout_2): Dropout(p=0.2, inplace=False)\n",
       "      )\n",
       "      (encoder_block_2): TransformerEncoderBlock(\n",
       "        (attention): MultiHeadAttention(\n",
       "          (query_matrix): Linear(in_features=20, out_features=21, bias=False)\n",
       "          (key_matrix): Linear(in_features=20, out_features=21, bias=False)\n",
       "          (value_matrix): Linear(in_features=20, out_features=21, bias=False)\n",
       "          (out): Linear(in_features=21, out_features=20, bias=True)\n",
       "        )\n",
       "        (adapt_residual): Identity()\n",
       "        (norm_1): LayerNorm((20,), eps=1e-05, elementwise_affine=True)\n",
       "        (dropout_1): Dropout(p=0.2, inplace=False)\n",
       "        (feed_forward): Sequential(\n",
       "          (lin_1): Linear(in_features=20, out_features=30, bias=True)\n",
       "          (act): ReLU()\n",
       "          (lin_2): Linear(in_features=30, out_features=20, bias=True)\n",
       "        )\n",
       "        (norm_2): LayerNorm((20,), eps=1e-05, elementwise_affine=True)\n",
       "        (dropout_2): Dropout(p=0.2, inplace=False)\n",
       "      )\n",
       "    )\n",
       "  )\n",
       "  (decoder): TransformerDecoder(\n",
       "    (embedding_layer): Embedding(10000, 10)\n",
       "    (positional_encoder): PositionalEncoding()\n",
       "    (dropout): Dropout(p=0.1, inplace=False)\n",
       "    (decoder_blocks): ModuleDict(\n",
       "      (decoder_block_0): TransformerDecoderBlock(\n",
       "        (masked_attention): MultiHeadAttention(\n",
       "          (query_matrix): Linear(in_features=10, out_features=30, bias=False)\n",
       "          (key_matrix): Linear(in_features=10, out_features=30, bias=False)\n",
       "          (value_matrix): Linear(in_features=10, out_features=30, bias=False)\n",
       "          (out): Linear(in_features=30, out_features=15, bias=True)\n",
       "        )\n",
       "        (adapt_residual): Linear(in_features=10, out_features=15, bias=True)\n",
       "        (norm): LayerNorm((15,), eps=1e-05, elementwise_affine=True)\n",
       "        (dropout): Dropout(p=0.1, inplace=False)\n",
       "        (encoder_block): TransformerEncoderBlock(\n",
       "          (attention): MultiHeadAttention(\n",
       "            (query_matrix): Linear(in_features=15, out_features=30, bias=False)\n",
       "            (key_matrix): Linear(in_features=20, out_features=30, bias=False)\n",
       "            (value_matrix): Linear(in_features=20, out_features=30, bias=False)\n",
       "            (out): Linear(in_features=30, out_features=15, bias=True)\n",
       "          )\n",
       "          (adapt_residual): Identity()\n",
       "          (norm_1): LayerNorm((15,), eps=1e-05, elementwise_affine=True)\n",
       "          (dropout_1): Dropout(p=0.1, inplace=False)\n",
       "          (feed_forward): Sequential(\n",
       "            (lin_1): Linear(in_features=15, out_features=20, bias=True)\n",
       "            (act): ReLU()\n",
       "            (lin_2): Linear(in_features=20, out_features=15, bias=True)\n",
       "          )\n",
       "          (norm_2): LayerNorm((15,), eps=1e-05, elementwise_affine=True)\n",
       "          (dropout_2): Dropout(p=0.1, inplace=False)\n",
       "        )\n",
       "      )\n",
       "      (decoder_block_1): TransformerDecoderBlock(\n",
       "        (masked_attention): MultiHeadAttention(\n",
       "          (query_matrix): Linear(in_features=15, out_features=30, bias=False)\n",
       "          (key_matrix): Linear(in_features=15, out_features=30, bias=False)\n",
       "          (value_matrix): Linear(in_features=15, out_features=30, bias=False)\n",
       "          (out): Linear(in_features=30, out_features=15, bias=True)\n",
       "        )\n",
       "        (adapt_residual): Identity()\n",
       "        (norm): LayerNorm((15,), eps=1e-05, elementwise_affine=True)\n",
       "        (dropout): Dropout(p=0.1, inplace=False)\n",
       "        (encoder_block): TransformerEncoderBlock(\n",
       "          (attention): MultiHeadAttention(\n",
       "            (query_matrix): Linear(in_features=15, out_features=30, bias=False)\n",
       "            (key_matrix): Linear(in_features=20, out_features=30, bias=False)\n",
       "            (value_matrix): Linear(in_features=20, out_features=30, bias=False)\n",
       "            (out): Linear(in_features=30, out_features=15, bias=True)\n",
       "          )\n",
       "          (adapt_residual): Identity()\n",
       "          (norm_1): LayerNorm((15,), eps=1e-05, elementwise_affine=True)\n",
       "          (dropout_1): Dropout(p=0.1, inplace=False)\n",
       "          (feed_forward): Sequential(\n",
       "            (lin_1): Linear(in_features=15, out_features=20, bias=True)\n",
       "            (act): ReLU()\n",
       "            (lin_2): Linear(in_features=20, out_features=15, bias=True)\n",
       "          )\n",
       "          (norm_2): LayerNorm((15,), eps=1e-05, elementwise_affine=True)\n",
       "          (dropout_2): Dropout(p=0.1, inplace=False)\n",
       "        )\n",
       "      )\n",
       "    )\n",
       "    (fc): Linear(in_features=15, out_features=10000, bias=True)\n",
       "  )\n",
       ")"
      ]
     },
     "execution_count": 35,
     "metadata": {},
     "output_type": "execute_result"
    }
   ],
   "source": [
    "tmp_layer = Transformer(\n",
    "    max_seq_len=20,\n",
    "    vocab_size=10000,\n",
    "    emb_size=10,\n",
    "    \n",
    "    num_encoder_layers=3,\n",
    "    enc_att_head_size=7,\n",
    "    enc_num_heads=3,\n",
    "    enc_att_out_size=20,\n",
    "    enc_ff_hidden_size=30,\n",
    "    enc_dropout_p=0.2,\n",
    "    \n",
    "    num_decoder_layers=2,\n",
    "    dec_att_head_size=7,\n",
    "    dec_num_heads=2,\n",
    "    dec_att_out_size=15,\n",
    "    dec_ff_hidden_size=20,\n",
    "    dec_dropout_p=0.1,\n",
    ")\n",
    "\n",
    "tmp_layer"
   ]
  },
  {
   "cell_type": "code",
   "execution_count": 36,
   "id": "21adac3b-fe8e-43f3-8841-a32a4db62dd7",
   "metadata": {
    "execution": {
     "iopub.execute_input": "2024-02-20T13:46:53.480512Z",
     "iopub.status.busy": "2024-02-20T13:46:53.479551Z",
     "iopub.status.idle": "2024-02-20T13:46:53.501860Z",
     "shell.execute_reply": "2024-02-20T13:46:53.500883Z",
     "shell.execute_reply.started": "2024-02-20T13:46:53.480461Z"
    },
    "tags": []
   },
   "outputs": [
    {
     "name": "stdout",
     "output_type": "stream",
     "text": [
      "Encoder input shape: torch.Size([2, 9])\n",
      "Decoder input shape: torch.Size([2, 5])\n",
      "Output shape: torch.Size([2, 5, 10000])\n"
     ]
    }
   ],
   "source": [
    "tmp_input_encoder = torch.randint(10000, (2, 9))\n",
    "tmp_input_decoder = torch.randint(10000, (2, 5))\n",
    "\n",
    "print(f'Encoder input shape: {tmp_input_encoder.shape}')\n",
    "print(f'Decoder input shape: {tmp_input_decoder.shape}')\n",
    "\n",
    "tmp_output = tmp_layer(tmp_input_encoder, tmp_input_decoder)\n",
    "print(f'Output shape: {tmp_output.shape}')\n",
    "\n",
    "del tmp_input_decoder, tmp_input_encoder"
   ]
  },
  {
   "cell_type": "markdown",
   "id": "cc67aa39-679f-4592-90ad-cf6d95ddc1c2",
   "metadata": {},
   "source": [
    "### 1.7 Авторегрессия"
   ]
  },
  {
   "cell_type": "code",
   "execution_count": 37,
   "id": "349296c0-7ad8-4d14-9e80-1a0d29ded1b7",
   "metadata": {
    "collapsed": true,
    "execution": {
     "iopub.execute_input": "2024-02-20T15:19:02.196582Z",
     "iopub.status.busy": "2024-02-20T15:19:02.195805Z",
     "iopub.status.idle": "2024-02-20T15:19:02.226799Z",
     "shell.execute_reply": "2024-02-20T15:19:02.226084Z",
     "shell.execute_reply.started": "2024-02-20T15:19:02.196538Z"
    },
    "jupyter": {
     "outputs_hidden": true
    },
    "tags": []
   },
   "outputs": [
    {
     "data": {
      "text/plain": [
       "Transformer(\n",
       "  (encoder): TransformerEncoder(\n",
       "    (embedding_layer): Embedding(10000, 10)\n",
       "    (positional_encoder): PositionalEncoding()\n",
       "    (encoder_blocks): ModuleDict(\n",
       "      (encoder_block_0): TransformerEncoderBlock(\n",
       "        (attention): MultiHeadAttention(\n",
       "          (query_matrix): Linear(in_features=10, out_features=21, bias=False)\n",
       "          (key_matrix): Linear(in_features=10, out_features=21, bias=False)\n",
       "          (value_matrix): Linear(in_features=10, out_features=21, bias=False)\n",
       "          (out): Linear(in_features=21, out_features=20, bias=True)\n",
       "        )\n",
       "        (adapt_residual): Linear(in_features=10, out_features=20, bias=True)\n",
       "        (norm_1): LayerNorm((20,), eps=1e-05, elementwise_affine=True)\n",
       "        (dropout_1): Dropout(p=0.2, inplace=False)\n",
       "        (feed_forward): Sequential(\n",
       "          (lin_1): Linear(in_features=20, out_features=30, bias=True)\n",
       "          (act): ReLU()\n",
       "          (lin_2): Linear(in_features=30, out_features=20, bias=True)\n",
       "        )\n",
       "        (norm_2): LayerNorm((20,), eps=1e-05, elementwise_affine=True)\n",
       "        (dropout_2): Dropout(p=0.2, inplace=False)\n",
       "      )\n",
       "    )\n",
       "  )\n",
       "  (decoder): TransformerDecoder(\n",
       "    (embedding_layer): Embedding(10000, 10)\n",
       "    (positional_encoder): PositionalEncoding()\n",
       "    (dropout): Dropout(p=0.1, inplace=False)\n",
       "    (decoder_blocks): ModuleDict(\n",
       "      (decoder_block_0): TransformerDecoderBlock(\n",
       "        (masked_attention): MultiHeadAttention(\n",
       "          (query_matrix): Linear(in_features=10, out_features=30, bias=False)\n",
       "          (key_matrix): Linear(in_features=10, out_features=30, bias=False)\n",
       "          (value_matrix): Linear(in_features=10, out_features=30, bias=False)\n",
       "          (out): Linear(in_features=30, out_features=15, bias=True)\n",
       "        )\n",
       "        (adapt_residual): Linear(in_features=10, out_features=15, bias=True)\n",
       "        (norm): LayerNorm((15,), eps=1e-05, elementwise_affine=True)\n",
       "        (dropout): Dropout(p=0.1, inplace=False)\n",
       "        (encoder_block): TransformerEncoderBlock(\n",
       "          (attention): MultiHeadAttention(\n",
       "            (query_matrix): Linear(in_features=15, out_features=30, bias=False)\n",
       "            (key_matrix): Linear(in_features=20, out_features=30, bias=False)\n",
       "            (value_matrix): Linear(in_features=20, out_features=30, bias=False)\n",
       "            (out): Linear(in_features=30, out_features=15, bias=True)\n",
       "          )\n",
       "          (adapt_residual): Identity()\n",
       "          (norm_1): LayerNorm((15,), eps=1e-05, elementwise_affine=True)\n",
       "          (dropout_1): Dropout(p=0.1, inplace=False)\n",
       "          (feed_forward): Sequential(\n",
       "            (lin_1): Linear(in_features=15, out_features=20, bias=True)\n",
       "            (act): ReLU()\n",
       "            (lin_2): Linear(in_features=20, out_features=15, bias=True)\n",
       "          )\n",
       "          (norm_2): LayerNorm((15,), eps=1e-05, elementwise_affine=True)\n",
       "          (dropout_2): Dropout(p=0.1, inplace=False)\n",
       "        )\n",
       "      )\n",
       "    )\n",
       "    (fc): Linear(in_features=15, out_features=10000, bias=True)\n",
       "  )\n",
       ")"
      ]
     },
     "execution_count": 37,
     "metadata": {},
     "output_type": "execute_result"
    }
   ],
   "source": [
    "model = Transformer(\n",
    "    max_seq_len=20,\n",
    "    vocab_size=10000,\n",
    "    emb_size=10,\n",
    "    \n",
    "    num_encoder_layers=1,\n",
    "    enc_att_head_size=7,\n",
    "    enc_num_heads=3,\n",
    "    enc_att_out_size=20,\n",
    "    enc_ff_hidden_size=30,\n",
    "    enc_dropout_p=0.2,\n",
    "    \n",
    "    num_decoder_layers=1,\n",
    "    dec_att_head_size=7,\n",
    "    dec_num_heads=2,\n",
    "    dec_att_out_size=15,\n",
    "    dec_ff_hidden_size=20,\n",
    "    dec_dropout_p=0.1,\n",
    ")\n",
    "\n",
    "model"
   ]
  },
  {
   "cell_type": "code",
   "execution_count": 38,
   "id": "dbf4197c-676d-4860-9ba7-f751352301ef",
   "metadata": {
    "execution": {
     "iopub.execute_input": "2024-02-20T15:19:03.296841Z",
     "iopub.status.busy": "2024-02-20T15:19:03.296044Z",
     "iopub.status.idle": "2024-02-20T15:19:03.308029Z",
     "shell.execute_reply": "2024-02-20T15:19:03.307337Z",
     "shell.execute_reply.started": "2024-02-20T15:19:03.296791Z"
    },
    "tags": []
   },
   "outputs": [],
   "source": [
    "@torch.no_grad()\n",
    "def generate(model, encoder_input, decoder_input, max_seq_len, eos_ind=1):\n",
    "    model.eval()\n",
    "    encoder_output = model.encoder(encoder_input)\n",
    "\n",
    "    decoder_input_len = decoder_input.shape[1]\n",
    "    num_generated = 0\n",
    "    is_eos = torch.zeros(decoder_input.shape[0]).bool()\n",
    "    while decoder_input_len + num_generated < max_seq_len and any(is_eos == False):\n",
    "        decoder_output = model.decoder(decoder_input, encoder_output)  # batch_size x dec_seq_len x vocab_size\n",
    "        pred_logits = decoder_output[:, -1, :]\n",
    "        pred_tokens = torch.max(F.softmax(pred_logits, -1), dim=-1).indices  # greedy decoder\n",
    "        is_eos |= (pred_tokens == eos_ind)\n",
    "        decoder_input = torch.cat((decoder_input, pred_tokens[:, None]), dim=-1)\n",
    "        num_generated += 1\n",
    "    \n",
    "    return decoder_input[:, decoder_input_len:]"
   ]
  },
  {
   "cell_type": "code",
   "execution_count": 39,
   "id": "08db1c9b-12a8-47d2-8f22-257f5d95b679",
   "metadata": {
    "execution": {
     "iopub.execute_input": "2024-02-20T15:19:10.293099Z",
     "iopub.status.busy": "2024-02-20T15:19:10.292319Z",
     "iopub.status.idle": "2024-02-20T15:19:10.308752Z",
     "shell.execute_reply": "2024-02-20T15:19:10.307933Z",
     "shell.execute_reply.started": "2024-02-20T15:19:10.293052Z"
    },
    "tags": []
   },
   "outputs": [
    {
     "data": {
      "text/plain": [
       "torch.Size([2, 4])"
      ]
     },
     "execution_count": 39,
     "metadata": {},
     "output_type": "execute_result"
    }
   ],
   "source": [
    "generate(\n",
    "    model=model,\n",
    "    encoder_input=torch.randint(10000, (2, 5)),\n",
    "    decoder_input=torch.randint(10000, (2, 1)),\n",
    "    max_seq_len=5,\n",
    "    eos_ind=1,\n",
    ").shape"
   ]
  },
  {
   "cell_type": "markdown",
   "id": "8b16d861-7257-43ab-93b8-abf6e05812b5",
   "metadata": {},
   "source": [
    "### 1.8 Дополнительно"
   ]
  },
  {
   "cell_type": "code",
   "execution_count": 40,
   "id": "f1ff08e2-84a4-4c69-9c49-8378099ea103",
   "metadata": {
    "execution": {
     "iopub.execute_input": "2024-02-20T12:19:55.457788Z",
     "iopub.status.busy": "2024-02-20T12:19:55.456880Z",
     "iopub.status.idle": "2024-02-20T12:19:55.480876Z",
     "shell.execute_reply": "2024-02-20T12:19:55.480083Z",
     "shell.execute_reply.started": "2024-02-20T12:19:55.457742Z"
    },
    "tags": []
   },
   "outputs": [
    {
     "name": "stdout",
     "output_type": "stream",
     "text": [
      "\u001b[1;31mInit signature:\u001b[0m\n",
      "\u001b[0mtorch\u001b[0m\u001b[1;33m.\u001b[0m\u001b[0mnn\u001b[0m\u001b[1;33m.\u001b[0m\u001b[0mTransformer\u001b[0m\u001b[1;33m(\u001b[0m\u001b[1;33m\n",
      "\u001b[0m    \u001b[0md_model\u001b[0m\u001b[1;33m:\u001b[0m \u001b[0mint\u001b[0m \u001b[1;33m=\u001b[0m \u001b[1;36m512\u001b[0m\u001b[1;33m,\u001b[0m\u001b[1;33m\n",
      "\u001b[0m    \u001b[0mnhead\u001b[0m\u001b[1;33m:\u001b[0m \u001b[0mint\u001b[0m \u001b[1;33m=\u001b[0m \u001b[1;36m8\u001b[0m\u001b[1;33m,\u001b[0m\u001b[1;33m\n",
      "\u001b[0m    \u001b[0mnum_encoder_layers\u001b[0m\u001b[1;33m:\u001b[0m \u001b[0mint\u001b[0m \u001b[1;33m=\u001b[0m \u001b[1;36m6\u001b[0m\u001b[1;33m,\u001b[0m\u001b[1;33m\n",
      "\u001b[0m    \u001b[0mnum_decoder_layers\u001b[0m\u001b[1;33m:\u001b[0m \u001b[0mint\u001b[0m \u001b[1;33m=\u001b[0m \u001b[1;36m6\u001b[0m\u001b[1;33m,\u001b[0m\u001b[1;33m\n",
      "\u001b[0m    \u001b[0mdim_feedforward\u001b[0m\u001b[1;33m:\u001b[0m \u001b[0mint\u001b[0m \u001b[1;33m=\u001b[0m \u001b[1;36m2048\u001b[0m\u001b[1;33m,\u001b[0m\u001b[1;33m\n",
      "\u001b[0m    \u001b[0mdropout\u001b[0m\u001b[1;33m:\u001b[0m \u001b[0mfloat\u001b[0m \u001b[1;33m=\u001b[0m \u001b[1;36m0.1\u001b[0m\u001b[1;33m,\u001b[0m\u001b[1;33m\n",
      "\u001b[0m    \u001b[0mactivation\u001b[0m\u001b[1;33m:\u001b[0m \u001b[0mUnion\u001b[0m\u001b[1;33m[\u001b[0m\u001b[0mstr\u001b[0m\u001b[1;33m,\u001b[0m \u001b[0mCallable\u001b[0m\u001b[1;33m[\u001b[0m\u001b[1;33m[\u001b[0m\u001b[0mtorch\u001b[0m\u001b[1;33m.\u001b[0m\u001b[0mTensor\u001b[0m\u001b[1;33m]\u001b[0m\u001b[1;33m,\u001b[0m \u001b[0mtorch\u001b[0m\u001b[1;33m.\u001b[0m\u001b[0mTensor\u001b[0m\u001b[1;33m]\u001b[0m\u001b[1;33m]\u001b[0m \u001b[1;33m=\u001b[0m \u001b[1;33m<\u001b[0m\u001b[0mfunction\u001b[0m \u001b[0mrelu\u001b[0m \u001b[0mat\u001b[0m \u001b[1;36m0x0000027D7FB17240\u001b[0m\u001b[1;33m>\u001b[0m\u001b[1;33m,\u001b[0m\u001b[1;33m\n",
      "\u001b[0m    \u001b[0mcustom_encoder\u001b[0m\u001b[1;33m:\u001b[0m \u001b[0mOptional\u001b[0m\u001b[1;33m[\u001b[0m\u001b[0mAny\u001b[0m\u001b[1;33m]\u001b[0m \u001b[1;33m=\u001b[0m \u001b[1;32mNone\u001b[0m\u001b[1;33m,\u001b[0m\u001b[1;33m\n",
      "\u001b[0m    \u001b[0mcustom_decoder\u001b[0m\u001b[1;33m:\u001b[0m \u001b[0mOptional\u001b[0m\u001b[1;33m[\u001b[0m\u001b[0mAny\u001b[0m\u001b[1;33m]\u001b[0m \u001b[1;33m=\u001b[0m \u001b[1;32mNone\u001b[0m\u001b[1;33m,\u001b[0m\u001b[1;33m\n",
      "\u001b[0m    \u001b[0mlayer_norm_eps\u001b[0m\u001b[1;33m:\u001b[0m \u001b[0mfloat\u001b[0m \u001b[1;33m=\u001b[0m \u001b[1;36m1e-05\u001b[0m\u001b[1;33m,\u001b[0m\u001b[1;33m\n",
      "\u001b[0m    \u001b[0mbatch_first\u001b[0m\u001b[1;33m:\u001b[0m \u001b[0mbool\u001b[0m \u001b[1;33m=\u001b[0m \u001b[1;32mFalse\u001b[0m\u001b[1;33m,\u001b[0m\u001b[1;33m\n",
      "\u001b[0m    \u001b[0mnorm_first\u001b[0m\u001b[1;33m:\u001b[0m \u001b[0mbool\u001b[0m \u001b[1;33m=\u001b[0m \u001b[1;32mFalse\u001b[0m\u001b[1;33m,\u001b[0m\u001b[1;33m\n",
      "\u001b[0m    \u001b[0mbias\u001b[0m\u001b[1;33m:\u001b[0m \u001b[0mbool\u001b[0m \u001b[1;33m=\u001b[0m \u001b[1;32mTrue\u001b[0m\u001b[1;33m,\u001b[0m\u001b[1;33m\n",
      "\u001b[0m    \u001b[0mdevice\u001b[0m\u001b[1;33m=\u001b[0m\u001b[1;32mNone\u001b[0m\u001b[1;33m,\u001b[0m\u001b[1;33m\n",
      "\u001b[0m    \u001b[0mdtype\u001b[0m\u001b[1;33m=\u001b[0m\u001b[1;32mNone\u001b[0m\u001b[1;33m,\u001b[0m\u001b[1;33m\n",
      "\u001b[0m\u001b[1;33m)\u001b[0m \u001b[1;33m->\u001b[0m \u001b[1;32mNone\u001b[0m\u001b[1;33m\u001b[0m\u001b[1;33m\u001b[0m\u001b[0m\n",
      "\u001b[1;31mDocstring:\u001b[0m     \n",
      "A transformer model.\n",
      "\n",
      "User is able to modify the attributes as needed. The architecture\n",
      "is based on the paper \"Attention Is All You Need\". Ashish Vaswani, Noam Shazeer,\n",
      "Niki Parmar, Jakob Uszkoreit, Llion Jones, Aidan N Gomez, Lukasz Kaiser, and\n",
      "Illia Polosukhin. 2017. Attention is all you need. In Advances in Neural Information\n",
      "Processing Systems, pages 6000-6010.\n",
      "\n",
      "Args:\n",
      "    d_model: the number of expected features in the encoder/decoder inputs (default=512).\n",
      "    nhead: the number of heads in the multiheadattention models (default=8).\n",
      "    num_encoder_layers: the number of sub-encoder-layers in the encoder (default=6).\n",
      "    num_decoder_layers: the number of sub-decoder-layers in the decoder (default=6).\n",
      "    dim_feedforward: the dimension of the feedforward network model (default=2048).\n",
      "    dropout: the dropout value (default=0.1).\n",
      "    activation: the activation function of encoder/decoder intermediate layer, can be a string\n",
      "        (\"relu\" or \"gelu\") or a unary callable. Default: relu\n",
      "    custom_encoder: custom encoder (default=None).\n",
      "    custom_decoder: custom decoder (default=None).\n",
      "    layer_norm_eps: the eps value in layer normalization components (default=1e-5).\n",
      "    batch_first: If ``True``, then the input and output tensors are provided\n",
      "        as (batch, seq, feature). Default: ``False`` (seq, batch, feature).\n",
      "    norm_first: if ``True``, encoder and decoder layers will perform LayerNorms before\n",
      "        other attention and feedforward operations, otherwise after. Default: ``False`` (after).\n",
      "    bias: If set to ``False``, ``Linear`` and ``LayerNorm`` layers will not learn an additive\n",
      "        bias. Default: ``True``.\n",
      "\n",
      "Examples::\n",
      "    >>> transformer_model = nn.Transformer(nhead=16, num_encoder_layers=12)\n",
      "    >>> src = torch.rand((10, 32, 512))\n",
      "    >>> tgt = torch.rand((20, 32, 512))\n",
      "    >>> out = transformer_model(src, tgt)\n",
      "\n",
      "Note: A full example to apply nn.Transformer module for the word language model is available in\n",
      "https://github.com/pytorch/examples/tree/master/word_language_model\n",
      "\u001b[1;31mInit docstring:\u001b[0m Initialize internal Module state, shared by both nn.Module and ScriptModule.\n",
      "\u001b[1;31mFile:\u001b[0m           c:\\users\\nazmievairat\\anaconda3\\envs\\python312\\lib\\site-packages\\torch\\nn\\modules\\transformer.py\n",
      "\u001b[1;31mType:\u001b[0m           type\n",
      "\u001b[1;31mSubclasses:\u001b[0m     "
     ]
    }
   ],
   "source": [
    "?torch.nn.Transformer"
   ]
  },
  {
   "cell_type": "code",
   "execution_count": null,
   "id": "62ef7e89-4a88-4640-b636-35c1153f0062",
   "metadata": {},
   "outputs": [],
   "source": []
  }
 ],
 "metadata": {
  "kernelspec": {
   "display_name": "python312",
   "language": "python",
   "name": "python3"
  },
  "language_info": {
   "codemirror_mode": {
    "name": "ipython",
    "version": 3
   },
   "file_extension": ".py",
   "mimetype": "text/x-python",
   "name": "python",
   "nbconvert_exporter": "python",
   "pygments_lexer": "ipython3",
   "version": "3.12.5"
  },
  "notebookId": "00017dc0-69ed-43c3-b989-8029237a77d0",
  "notebookPath": "Sem5 - Interpretation/sem5_interpretation.ipynb"
 },
 "nbformat": 4,
 "nbformat_minor": 5
}
